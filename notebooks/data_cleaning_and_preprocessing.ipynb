{
 "cells": [
  {
   "cell_type": "markdown",
   "id": "f71ff3f3",
   "metadata": {},
   "source": [
    "# Import Libraries"
   ]
  },
  {
   "cell_type": "code",
   "execution_count": 1,
   "id": "83736c11",
   "metadata": {},
   "outputs": [],
   "source": [
    "import os, sys\n",
    "path_parent = os.path.dirname(os.getcwd())\n",
    "os.chdir(path_parent)\n",
    "path_parent = os.path.dirname(os.getcwd())\n",
    "sys.path.insert(0, path_parent+'/Telecom-Data-Analysis/scripts')"
   ]
  },
  {
   "cell_type": "code",
   "execution_count": 2,
   "id": "5edc6330",
   "metadata": {},
   "outputs": [],
   "source": [
    "import pandas as pd\n",
    "import numpy as np\n",
    "import matplotlib.pyplot as plt\n",
    "import seaborn as sns\n",
    "import missingno as msno\n",
    "# !pip install openpyxl\n"
   ]
  },
  {
   "cell_type": "code",
   "execution_count": 3,
   "id": "e215c386",
   "metadata": {},
   "outputs": [],
   "source": [
    "from EDA import *\n",
    "from data_preprocess import *\n",
    "from data_clean import *"
   ]
  },
  {
   "cell_type": "code",
   "execution_count": 4,
   "id": "d4917080",
   "metadata": {},
   "outputs": [],
   "source": [
    "# df = pd.read_excel('../data/Week1_challenge_data_source.xlsx')\n",
    "df_desc =  pd.read_excel('data/Field Descriptions.xlsx')\n",
    "# df.to_pickle('../data/data_in_Dataframe.pkl')\n",
    "df = pd.read_pickle('data/data_in_Dataframe.pkl')\n"
   ]
  },
  {
   "cell_type": "markdown",
   "id": "527c4d91",
   "metadata": {},
   "source": [
    "# Explore Data"
   ]
  },
  {
   "cell_type": "code",
   "execution_count": 59,
   "id": "83cbf880",
   "metadata": {},
   "outputs": [
    {
     "data": {
      "text/plain": [
       "(149010, 55)"
      ]
     },
     "execution_count": 59,
     "metadata": {},
     "output_type": "execute_result"
    }
   ],
   "source": [
    "df.shape"
   ]
  },
  {
   "cell_type": "code",
   "execution_count": 6,
   "id": "bcb60fae",
   "metadata": {},
   "outputs": [
    {
     "data": {
      "text/plain": [
       "Bearer Id                                      991\n",
       "Start                                            1\n",
       "Start ms                                         1\n",
       "End                                              1\n",
       "End ms                                           1\n",
       "Dur. (ms)                                        1\n",
       "IMSI                                           570\n",
       "MSISDN/Number                                 1066\n",
       "IMEI                                           572\n",
       "Last Location Name                            1153\n",
       "Avg RTT DL (ms)                              27829\n",
       "Avg RTT UL (ms)                              27812\n",
       "Avg Bearer TP DL (kbps)                          1\n",
       "Avg Bearer TP UL (kbps)                          1\n",
       "TCP DL Retrans. Vol (Bytes)                  88146\n",
       "TCP UL Retrans. Vol (Bytes)                  96649\n",
       "DL TP < 50 Kbps (%)                            754\n",
       "50 Kbps < DL TP < 250 Kbps (%)                 754\n",
       "250 Kbps < DL TP < 1 Mbps (%)                  754\n",
       "DL TP > 1 Mbps (%)                             754\n",
       "UL TP < 10 Kbps (%)                            792\n",
       "10 Kbps < UL TP < 50 Kbps (%)                  792\n",
       "50 Kbps < UL TP < 300 Kbps (%)                 792\n",
       "UL TP > 300 Kbps (%)                           792\n",
       "HTTP DL (Bytes)                              81474\n",
       "HTTP UL (Bytes)                              81810\n",
       "Activity Duration DL (ms)                        1\n",
       "Activity Duration UL (ms)                        1\n",
       "Dur. (ms).1                                      1\n",
       "Handset Manufacturer                           572\n",
       "Handset Type                                   572\n",
       "Nb of sec with 125000B < Vol DL              97538\n",
       "Nb of sec with 1250B < Vol UL < 6250B        92894\n",
       "Nb of sec with 31250B < Vol DL < 125000B     93586\n",
       "Nb of sec with 37500B < Vol UL              130254\n",
       "Nb of sec with 6250B < Vol DL < 31250B       88317\n",
       "Nb of sec with 6250B < Vol UL < 37500B      111843\n",
       "Nb of sec with Vol DL < 6250B                  755\n",
       "Nb of sec with Vol UL < 1250B                  793\n",
       "Social Media DL (Bytes)                          0\n",
       "Social Media UL (Bytes)                          0\n",
       "Google DL (Bytes)                                0\n",
       "Google UL (Bytes)                                0\n",
       "Email DL (Bytes)                                 0\n",
       "Email UL (Bytes)                                 0\n",
       "Youtube DL (Bytes)                               0\n",
       "Youtube UL (Bytes)                               0\n",
       "Netflix DL (Bytes)                               0\n",
       "Netflix UL (Bytes)                               0\n",
       "Gaming DL (Bytes)                                0\n",
       "Gaming UL (Bytes)                                0\n",
       "Other DL (Bytes)                                 0\n",
       "Other UL (Bytes)                                 0\n",
       "Total UL (Bytes)                                 1\n",
       "Total DL (Bytes)                                 1\n",
       "dtype: int64"
      ]
     },
     "execution_count": 6,
     "metadata": {},
     "output_type": "execute_result"
    }
   ],
   "source": [
    "df.isnull().sum()"
   ]
  },
  {
   "cell_type": "code",
   "execution_count": 7,
   "id": "2d3d0820",
   "metadata": {},
   "outputs": [
    {
     "data": {
      "text/plain": [
       "Bearer Id                                   0.66\n",
       "Start                                       0.00\n",
       "Start ms                                    0.00\n",
       "End                                         0.00\n",
       "End ms                                      0.00\n",
       "Dur. (ms)                                   0.00\n",
       "IMSI                                        0.38\n",
       "MSISDN/Number                               0.71\n",
       "IMEI                                        0.38\n",
       "Last Location Name                          0.77\n",
       "Avg RTT DL (ms)                            18.55\n",
       "Avg RTT UL (ms)                            18.54\n",
       "Avg Bearer TP DL (kbps)                     0.00\n",
       "Avg Bearer TP UL (kbps)                     0.00\n",
       "TCP DL Retrans. Vol (Bytes)                58.76\n",
       "TCP UL Retrans. Vol (Bytes)                64.43\n",
       "DL TP < 50 Kbps (%)                         0.50\n",
       "50 Kbps < DL TP < 250 Kbps (%)              0.50\n",
       "250 Kbps < DL TP < 1 Mbps (%)               0.50\n",
       "DL TP > 1 Mbps (%)                          0.50\n",
       "UL TP < 10 Kbps (%)                         0.53\n",
       "10 Kbps < UL TP < 50 Kbps (%)               0.53\n",
       "50 Kbps < UL TP < 300 Kbps (%)              0.53\n",
       "UL TP > 300 Kbps (%)                        0.53\n",
       "HTTP DL (Bytes)                            54.32\n",
       "HTTP UL (Bytes)                            54.54\n",
       "Activity Duration DL (ms)                   0.00\n",
       "Activity Duration UL (ms)                   0.00\n",
       "Dur. (ms).1                                 0.00\n",
       "Handset Manufacturer                        0.38\n",
       "Handset Type                                0.38\n",
       "Nb of sec with 125000B < Vol DL            65.02\n",
       "Nb of sec with 1250B < Vol UL < 6250B      61.93\n",
       "Nb of sec with 31250B < Vol DL < 125000B   62.39\n",
       "Nb of sec with 37500B < Vol UL             86.84\n",
       "Nb of sec with 6250B < Vol DL < 31250B     58.88\n",
       "Nb of sec with 6250B < Vol UL < 37500B     74.56\n",
       "Nb of sec with Vol DL < 6250B               0.50\n",
       "Nb of sec with Vol UL < 1250B               0.53\n",
       "Social Media DL (Bytes)                     0.00\n",
       "Social Media UL (Bytes)                     0.00\n",
       "Google DL (Bytes)                           0.00\n",
       "Google UL (Bytes)                           0.00\n",
       "Email DL (Bytes)                            0.00\n",
       "Email UL (Bytes)                            0.00\n",
       "Youtube DL (Bytes)                          0.00\n",
       "Youtube UL (Bytes)                          0.00\n",
       "Netflix DL (Bytes)                          0.00\n",
       "Netflix UL (Bytes)                          0.00\n",
       "Gaming DL (Bytes)                           0.00\n",
       "Gaming UL (Bytes)                           0.00\n",
       "Other DL (Bytes)                            0.00\n",
       "Other UL (Bytes)                            0.00\n",
       "Total UL (Bytes)                            0.00\n",
       "Total DL (Bytes)                            0.00\n",
       "dtype: float64"
      ]
     },
     "execution_count": 7,
     "metadata": {},
     "output_type": "execute_result"
    }
   ],
   "source": [
    "# the total amount of empty entries in each column with total percentage\n",
    "df.isnull().sum()/df.shape[0]*100"
   ]
  },
  {
   "cell_type": "code",
   "execution_count": 8,
   "id": "99d0c75c",
   "metadata": {},
   "outputs": [
    {
     "data": {
      "text/plain": [
       "Bearer Id                                          float64\n",
       "Start                                       datetime64[ns]\n",
       "Start ms                                           float64\n",
       "End                                         datetime64[ns]\n",
       "End ms                                             float64\n",
       "Dur. (ms)                                          float64\n",
       "IMSI                                               float64\n",
       "MSISDN/Number                                      float64\n",
       "IMEI                                               float64\n",
       "Last Location Name                                  object\n",
       "Avg RTT DL (ms)                                    float64\n",
       "Avg RTT UL (ms)                                    float64\n",
       "Avg Bearer TP DL (kbps)                            float64\n",
       "Avg Bearer TP UL (kbps)                            float64\n",
       "TCP DL Retrans. Vol (Bytes)                        float64\n",
       "TCP UL Retrans. Vol (Bytes)                        float64\n",
       "DL TP < 50 Kbps (%)                                float64\n",
       "50 Kbps < DL TP < 250 Kbps (%)                     float64\n",
       "250 Kbps < DL TP < 1 Mbps (%)                      float64\n",
       "DL TP > 1 Mbps (%)                                 float64\n",
       "UL TP < 10 Kbps (%)                                float64\n",
       "10 Kbps < UL TP < 50 Kbps (%)                      float64\n",
       "50 Kbps < UL TP < 300 Kbps (%)                     float64\n",
       "UL TP > 300 Kbps (%)                               float64\n",
       "HTTP DL (Bytes)                                    float64\n",
       "HTTP UL (Bytes)                                    float64\n",
       "Activity Duration DL (ms)                          float64\n",
       "Activity Duration UL (ms)                          float64\n",
       "Dur. (ms).1                                        float64\n",
       "Handset Manufacturer                                object\n",
       "Handset Type                                        object\n",
       "Nb of sec with 125000B < Vol DL                    float64\n",
       "Nb of sec with 1250B < Vol UL < 6250B              float64\n",
       "Nb of sec with 31250B < Vol DL < 125000B           float64\n",
       "Nb of sec with 37500B < Vol UL                     float64\n",
       "Nb of sec with 6250B < Vol DL < 31250B             float64\n",
       "Nb of sec with 6250B < Vol UL < 37500B             float64\n",
       "Nb of sec with Vol DL < 6250B                      float64\n",
       "Nb of sec with Vol UL < 1250B                      float64\n",
       "Social Media DL (Bytes)                            float64\n",
       "Social Media UL (Bytes)                            float64\n",
       "Google DL (Bytes)                                  float64\n",
       "Google UL (Bytes)                                  float64\n",
       "Email DL (Bytes)                                   float64\n",
       "Email UL (Bytes)                                   float64\n",
       "Youtube DL (Bytes)                                 float64\n",
       "Youtube UL (Bytes)                                 float64\n",
       "Netflix DL (Bytes)                                 float64\n",
       "Netflix UL (Bytes)                                 float64\n",
       "Gaming DL (Bytes)                                  float64\n",
       "Gaming UL (Bytes)                                  float64\n",
       "Other DL (Bytes)                                   float64\n",
       "Other UL (Bytes)                                   float64\n",
       "Total UL (Bytes)                                   float64\n",
       "Total DL (Bytes)                                   float64\n",
       "dtype: object"
      ]
     },
     "execution_count": 8,
     "metadata": {},
     "output_type": "execute_result"
    }
   ],
   "source": [
    "df.dtypes"
   ]
  },
  {
   "cell_type": "code",
   "execution_count": 9,
   "id": "5fb8602e",
   "metadata": {},
   "outputs": [
    {
     "data": {
      "text/plain": [
       "991"
      ]
     },
     "execution_count": 9,
     "metadata": {},
     "output_type": "execute_result"
    }
   ],
   "source": [
    "df['Bearer Id'].isnull().sum()"
   ]
  },
  {
   "cell_type": "code",
   "execution_count": 10,
   "id": "f21f3ffe",
   "metadata": {},
   "outputs": [],
   "source": [
    "# drop the rows that have Bearer Id null\n",
    "df.dropna(subset=['Bearer Id'],inplace=True)"
   ]
  },
  {
   "cell_type": "code",
   "execution_count": 11,
   "id": "2b1cef68",
   "metadata": {},
   "outputs": [],
   "source": [
    "# Columns having missing values\n",
    "missing_categorical_columns = [col for col in df.columns if df[col].isnull().sum() > 0 and df[col].dtype=='object']\n",
    "missing_non_categorical_columns = [col for col in df.columns if df[col].isnull().sum() > 0 and df[col].dtype !='object']"
   ]
  },
  {
   "cell_type": "code",
   "execution_count": 12,
   "id": "31571596",
   "metadata": {},
   "outputs": [
    {
     "name": "stdout",
     "output_type": "stream",
     "text": [
      "Last Location Name : 162 (0.109%)\n",
      "Handset Manufacturer : 11 (0.007%)\n",
      "Handset Type : 11 (0.007%)\n"
     ]
    }
   ],
   "source": [
    "missing_percent = get_numerical_summary(df,missing_categorical_columns)\n"
   ]
  },
  {
   "cell_type": "code",
   "execution_count": 13,
   "id": "53163c7c",
   "metadata": {},
   "outputs": [
    {
     "name": "stdout",
     "output_type": "stream",
     "text": [
      "----------------------------------\n",
      "Last Location Name \n",
      "\n",
      "D41377B             80\n",
      "D17085A             59\n",
      "D72396C             57\n",
      "9164566985995010    55\n",
      "D73604C             55\n",
      "                    ..\n",
      "L61017C              1\n",
      "T94246B              1\n",
      "D72724B              1\n",
      "D21664A              1\n",
      "L88342B              1\n",
      "Name: Last Location Name, Length: 45547, dtype: int64\n",
      "----------------------------------\n",
      "Handset Manufacturer \n",
      "\n",
      "Apple                               59440\n",
      "Samsung                             40689\n",
      "Huawei                              34353\n",
      "undefined                            8960\n",
      "Sony Mobile Communications Ab         969\n",
      "                                    ...  \n",
      "Pt. Arga Mas Lestari                    1\n",
      "Doke Communication (Hk) Limited         1\n",
      "Vastking Technology (Hk) Limited        1\n",
      "Mobiwire Sas                            1\n",
      "Shenzhen Gaoxinqi                       1\n",
      "Name: Handset Manufacturer, Length: 170, dtype: int64\n",
      "----------------------------------\n",
      "Handset Type \n",
      "\n",
      "Huawei B528S-23A                                           19752\n",
      "Apple iPhone 6S (A1688)                                     9401\n",
      "Apple iPhone 6 (A1586)                                      9004\n",
      "undefined                                                   8960\n",
      "Apple iPhone 7 (A1778)                                      6301\n",
      "                                                           ...  \n",
      "Shenzhen Fortune. M-Ppas6                                      1\n",
      "Wiko Global Sasu Wiko Ridge 4G                                 1\n",
      "Hongkong Ipro Te. Ipro I9350 I9400 S3 Wave 3.5 Wave 4.0        1\n",
      "Shenzhen Guowei. V6304                                         1\n",
      "Shenzhen Jeko Co. Blackview Bv5800 Pro                         1\n",
      "Name: Handset Type, Length: 1393, dtype: int64\n",
      "----------------------------------\n"
     ]
    }
   ],
   "source": [
    "get_value_counts(df)"
   ]
  },
  {
   "cell_type": "code",
   "execution_count": 14,
   "id": "5dd267ab",
   "metadata": {},
   "outputs": [
    {
     "data": {
      "text/plain": [
       "Huawei B528S-23A                19752\n",
       "Apple iPhone 6S (A1688)          9401\n",
       "Apple iPhone 6 (A1586)           9004\n",
       "undefined                        8960\n",
       "Apple iPhone 7 (A1778)           6301\n",
       "Apple iPhone Se (A1723)          5176\n",
       "Apple iPhone 8 (A1905)           4985\n",
       "Apple iPhone Xr (A2105)          4562\n",
       "Samsung Galaxy S8 (Sm-G950F)     4504\n",
       "Apple iPhone X (A1901)           3809\n",
       "Name: Handset Type, dtype: int64"
      ]
     },
     "execution_count": 14,
     "metadata": {},
     "output_type": "execute_result"
    }
   ],
   "source": [
    "df['Handset Type'].value_counts()[:10]"
   ]
  },
  {
   "cell_type": "code",
   "execution_count": 15,
   "id": "1740ea8f",
   "metadata": {},
   "outputs": [
    {
     "data": {
      "text/html": [
       "<div>\n",
       "<style scoped>\n",
       "    .dataframe tbody tr th:only-of-type {\n",
       "        vertical-align: middle;\n",
       "    }\n",
       "\n",
       "    .dataframe tbody tr th {\n",
       "        vertical-align: top;\n",
       "    }\n",
       "\n",
       "    .dataframe thead th {\n",
       "        text-align: right;\n",
       "    }\n",
       "</style>\n",
       "<table border=\"1\" class=\"dataframe\">\n",
       "  <thead>\n",
       "    <tr style=\"text-align: right;\">\n",
       "      <th></th>\n",
       "      <th>Last Location Name</th>\n",
       "      <th>Handset Manufacturer</th>\n",
       "      <th>Handset Type</th>\n",
       "    </tr>\n",
       "  </thead>\n",
       "  <tbody>\n",
       "    <tr>\n",
       "      <th>count</th>\n",
       "      <td>148848</td>\n",
       "      <td>148999</td>\n",
       "      <td>148999</td>\n",
       "    </tr>\n",
       "    <tr>\n",
       "      <th>unique</th>\n",
       "      <td>45547</td>\n",
       "      <td>170</td>\n",
       "      <td>1393</td>\n",
       "    </tr>\n",
       "    <tr>\n",
       "      <th>top</th>\n",
       "      <td>D41377B</td>\n",
       "      <td>Apple</td>\n",
       "      <td>Huawei B528S-23A</td>\n",
       "    </tr>\n",
       "    <tr>\n",
       "      <th>freq</th>\n",
       "      <td>80</td>\n",
       "      <td>59440</td>\n",
       "      <td>19752</td>\n",
       "    </tr>\n",
       "  </tbody>\n",
       "</table>\n",
       "</div>"
      ],
      "text/plain": [
       "       Last Location Name Handset Manufacturer      Handset Type\n",
       "count              148848               148999            148999\n",
       "unique              45547                  170              1393\n",
       "top               D41377B                Apple  Huawei B528S-23A\n",
       "freq                   80                59440             19752"
      ]
     },
     "execution_count": 15,
     "metadata": {},
     "output_type": "execute_result"
    }
   ],
   "source": [
    "df[missing_categorical_columns].describe()"
   ]
  },
  {
   "cell_type": "code",
   "execution_count": 16,
   "id": "9e281a95",
   "metadata": {},
   "outputs": [],
   "source": [
    "# we can add Missing to the missing categorical columns\n",
    "df = add_missing(df,missing_categorical_columns)"
   ]
  },
  {
   "cell_type": "code",
   "execution_count": 17,
   "id": "9f7b4249",
   "metadata": {},
   "outputs": [
    {
     "data": {
      "text/plain": [
       "Last Location Name      0\n",
       "Handset Manufacturer    0\n",
       "Handset Type            0\n",
       "dtype: int64"
      ]
     },
     "execution_count": 17,
     "metadata": {},
     "output_type": "execute_result"
    }
   ],
   "source": [
    "df[missing_categorical_columns].isnull().sum()"
   ]
  },
  {
   "cell_type": "code",
   "execution_count": 18,
   "id": "165027f8",
   "metadata": {},
   "outputs": [
    {
     "name": "stdout",
     "output_type": "stream",
     "text": [
      "IMSI ==  International Mobile Subscriber Identity\n",
      "MSISDN/Number ==  MS International PSTN/ISDN Number of mobile - customer number\n",
      "IMEI ==  International Mobile Equipment Identity\n",
      "Avg RTT DL (ms) ==  Average Round Trip Time measurement Downlink direction (msecond)\n",
      "Avg RTT UL (ms) ==  Average Round Trip Time measurement Uplink direction (msecond)\n",
      "TCP DL Retrans. Vol (Bytes) ==  TCP volume of Downlink packets detected as retransmitted (bytes)\n",
      "TCP UL Retrans. Vol (Bytes) ==  TCP volume of Uplink packets detected as retransmitted (bytes)\n",
      "DL TP < 50 Kbps (%) ==  Duration ratio when Bearer Downlink Throughput < ….\n",
      "50 Kbps < DL TP < 250 Kbps (%) ==  Duration ratio when Bearer Downlink Throughput range is …\n",
      "250 Kbps < DL TP < 1 Mbps (%) ==  Duration ratio when Bearer Downlink Throughput range is …\n",
      "DL TP > 1 Mbps (%) ==  Duration ratio when Bearer Downlink Throughput > ….\n",
      "UL TP < 10 Kbps (%) ==  Duration ratio when Bearer Uplink Throughput < ….\n",
      "10 Kbps < UL TP < 50 Kbps (%) ==  Duration ratio when Bearer Uplink Throughput range is …\n",
      "50 Kbps < UL TP < 300 Kbps (%) ==  Duration ratio when Bearer Uplink Throughput range is …\n",
      "UL TP > 300 Kbps (%) ==  Duration ratio when Bearer Uplink Throughput > ….\n",
      "HTTP DL (Bytes) ==  HTTP data volume (in Bytes) received by the MS during this session\n",
      "HTTP UL (Bytes) ==  HTTP data volume (in Bytes) sent by the MS during this session\n",
      "Nb of sec with 125000B < Vol DL ==  Number of seconds with IP Volume DL >\n",
      "Nb of sec with 1250B < Vol UL < 6250B ==  Number of seconds with IP Volume UL between …\n",
      "Nb of sec with 31250B < Vol DL < 125000B ==  Number of seconds with IP Volume DL between …\n",
      "Nb of sec with 37500B < Vol UL ==  Number of seconds with IP Volume UL >\n",
      "Nb of sec with 6250B < Vol DL < 31250B ==  Number of seconds with IP Volume DL between …\n",
      "Nb of sec with 6250B < Vol UL < 37500B ==  Number of seconds with IP Volume UL between …\n",
      "Nb of sec with Vol DL < 6250B ==  Number of seconds with IP Volume DL <\n",
      "Nb of sec with Vol UL < 1250B ==  Number of seconds with IP Volume UL <\n"
     ]
    }
   ],
   "source": [
    "data_description(df=df,df_desc=df_desc,cols=missing_non_categorical_columns)"
   ]
  },
  {
   "cell_type": "code",
   "execution_count": 20,
   "id": "cafa94e6",
   "metadata": {},
   "outputs": [
    {
     "data": {
      "image/png": "[encoded data removed]",
      "text/plain": [
       "<Figure size 2500x1000 with 2 Axes>"
      ]
     },
     "metadata": {},
     "output_type": "display_data"
    },
    {
     "data": {
      "text/plain": [
       "<Figure size 10000x6000 with 0 Axes>"
      ]
     },
     "metadata": {},
     "output_type": "display_data"
    }
   ],
   "source": [
    "plot_missingno(df)"
   ]
  },
  {
   "cell_type": "code",
   "execution_count": 19,
   "id": "43429959",
   "metadata": {},
   "outputs": [
    {
     "name": "stdout",
     "output_type": "stream",
     "text": [
      "IMSI : 9 (0.006%)\n",
      "MSISDN/Number : 504 (0.338%)\n",
      "IMEI : 11 (0.007%)\n",
      "Avg RTT DL (ms) : 27685 (18.579%)\n",
      "Avg RTT UL (ms) : 27666 (18.567%)\n",
      "TCP DL Retrans. Vol (Bytes) : 87906 (58.993%)\n",
      "TCP UL Retrans. Vol (Bytes) : 96368 (64.672%)\n",
      "DL TP < 50 Kbps (%) : 716 (0.481%)\n",
      "50 Kbps < DL TP < 250 Kbps (%) : 716 (0.481%)\n",
      "250 Kbps < DL TP < 1 Mbps (%) : 716 (0.481%)\n",
      "DL TP > 1 Mbps (%) : 716 (0.481%)\n",
      "UL TP < 10 Kbps (%) : 770 (0.517%)\n",
      "10 Kbps < UL TP < 50 Kbps (%) : 770 (0.517%)\n",
      "50 Kbps < UL TP < 300 Kbps (%) : 770 (0.517%)\n",
      "UL TP > 300 Kbps (%) : 770 (0.517%)\n",
      "HTTP DL (Bytes) : 81228 (54.512%)\n",
      "HTTP UL (Bytes) : 81578 (54.747%)\n",
      "Nb of sec with 125000B < Vol DL : 97000 (65.096%)\n",
      "Nb of sec with 1250B < Vol UL < 6250B : 92448 (62.041%)\n",
      "Nb of sec with 31250B < Vol DL < 125000B : 93162 (62.521%)\n",
      "Nb of sec with 37500B < Vol UL : 129375 (86.823%)\n",
      "Nb of sec with 6250B < Vol DL < 31250B : 87987 (59.048%)\n",
      "Nb of sec with 6250B < Vol UL < 37500B : 111135 (74.582%)\n",
      "Nb of sec with Vol DL < 6250B : 717 (0.481%)\n",
      "Nb of sec with Vol UL < 1250B : 771 (0.517%)\n"
     ]
    }
   ],
   "source": [
    "noncat_missing_percent = get_numerical_summary(df=df,missing_cols=missing_non_categorical_columns)"
   ]
  },
  {
   "cell_type": "code",
   "execution_count": 20,
   "id": "532e7f5d",
   "metadata": {},
   "outputs": [
    {
     "data": {
      "text/plain": [
       "Bearer Id                                        0\n",
       "Start                                            0\n",
       "Start ms                                         0\n",
       "End                                              0\n",
       "End ms                                           0\n",
       "Dur. (ms)                                        0\n",
       "IMSI                                             9\n",
       "MSISDN/Number                                  504\n",
       "IMEI                                            11\n",
       "Last Location Name                               0\n",
       "Avg RTT DL (ms)                              27685\n",
       "Avg RTT UL (ms)                              27666\n",
       "Avg Bearer TP DL (kbps)                          0\n",
       "Avg Bearer TP UL (kbps)                          0\n",
       "TCP DL Retrans. Vol (Bytes)                  87906\n",
       "TCP UL Retrans. Vol (Bytes)                  96368\n",
       "DL TP < 50 Kbps (%)                            716\n",
       "50 Kbps < DL TP < 250 Kbps (%)                 716\n",
       "250 Kbps < DL TP < 1 Mbps (%)                  716\n",
       "DL TP > 1 Mbps (%)                             716\n",
       "UL TP < 10 Kbps (%)                            770\n",
       "10 Kbps < UL TP < 50 Kbps (%)                  770\n",
       "50 Kbps < UL TP < 300 Kbps (%)                 770\n",
       "UL TP > 300 Kbps (%)                           770\n",
       "HTTP DL (Bytes)                              81228\n",
       "HTTP UL (Bytes)                              81578\n",
       "Activity Duration DL (ms)                        0\n",
       "Activity Duration UL (ms)                        0\n",
       "Dur. (ms).1                                      0\n",
       "Handset Manufacturer                             0\n",
       "Handset Type                                     0\n",
       "Nb of sec with 125000B < Vol DL              97000\n",
       "Nb of sec with 1250B < Vol UL < 6250B        92448\n",
       "Nb of sec with 31250B < Vol DL < 125000B     93162\n",
       "Nb of sec with 37500B < Vol UL              129375\n",
       "Nb of sec with 6250B < Vol DL < 31250B       87987\n",
       "Nb of sec with 6250B < Vol UL < 37500B      111135\n",
       "Nb of sec with Vol DL < 6250B                  717\n",
       "Nb of sec with Vol UL < 1250B                  771\n",
       "Social Media DL (Bytes)                          0\n",
       "Social Media UL (Bytes)                          0\n",
       "Google DL (Bytes)                                0\n",
       "Google UL (Bytes)                                0\n",
       "Email DL (Bytes)                                 0\n",
       "Email UL (Bytes)                                 0\n",
       "Youtube DL (Bytes)                               0\n",
       "Youtube UL (Bytes)                               0\n",
       "Netflix DL (Bytes)                               0\n",
       "Netflix UL (Bytes)                               0\n",
       "Gaming DL (Bytes)                                0\n",
       "Gaming UL (Bytes)                                0\n",
       "Other DL (Bytes)                                 0\n",
       "Other UL (Bytes)                                 0\n",
       "Total UL (Bytes)                                 0\n",
       "Total DL (Bytes)                                 0\n",
       "dtype: int64"
      ]
     },
     "execution_count": 20,
     "metadata": {},
     "output_type": "execute_result"
    }
   ],
   "source": [
    "df.isnull().sum()"
   ]
  },
  {
   "cell_type": "code",
   "execution_count": 21,
   "id": "6f89d405",
   "metadata": {},
   "outputs": [
    {
     "data": {
      "text/html": [
       "<div>\n",
       "<style scoped>\n",
       "    .dataframe tbody tr th:only-of-type {\n",
       "        vertical-align: middle;\n",
       "    }\n",
       "\n",
       "    .dataframe tbody tr th {\n",
       "        vertical-align: top;\n",
       "    }\n",
       "\n",
       "    .dataframe thead th {\n",
       "        text-align: right;\n",
       "    }\n",
       "</style>\n",
       "<table border=\"1\" class=\"dataframe\">\n",
       "  <thead>\n",
       "    <tr style=\"text-align: right;\">\n",
       "      <th></th>\n",
       "      <th>IMSI</th>\n",
       "      <th>MSISDN/Number</th>\n",
       "      <th>IMEI</th>\n",
       "      <th>Avg RTT DL (ms)</th>\n",
       "      <th>Avg RTT UL (ms)</th>\n",
       "      <th>TCP DL Retrans. Vol (Bytes)</th>\n",
       "      <th>TCP UL Retrans. Vol (Bytes)</th>\n",
       "      <th>DL TP &lt; 50 Kbps (%)</th>\n",
       "      <th>50 Kbps &lt; DL TP &lt; 250 Kbps (%)</th>\n",
       "      <th>250 Kbps &lt; DL TP &lt; 1 Mbps (%)</th>\n",
       "      <th>...</th>\n",
       "      <th>HTTP DL (Bytes)</th>\n",
       "      <th>HTTP UL (Bytes)</th>\n",
       "      <th>Nb of sec with 125000B &lt; Vol DL</th>\n",
       "      <th>Nb of sec with 1250B &lt; Vol UL &lt; 6250B</th>\n",
       "      <th>Nb of sec with 31250B &lt; Vol DL &lt; 125000B</th>\n",
       "      <th>Nb of sec with 37500B &lt; Vol UL</th>\n",
       "      <th>Nb of sec with 6250B &lt; Vol DL &lt; 31250B</th>\n",
       "      <th>Nb of sec with 6250B &lt; Vol UL &lt; 37500B</th>\n",
       "      <th>Nb of sec with Vol DL &lt; 6250B</th>\n",
       "      <th>Nb of sec with Vol UL &lt; 1250B</th>\n",
       "    </tr>\n",
       "  </thead>\n",
       "  <tbody>\n",
       "    <tr>\n",
       "      <th>count</th>\n",
       "      <td>149,001.00</td>\n",
       "      <td>148,506.00</td>\n",
       "      <td>148,999.00</td>\n",
       "      <td>121,325.00</td>\n",
       "      <td>121,344.00</td>\n",
       "      <td>61,104.00</td>\n",
       "      <td>52,642.00</td>\n",
       "      <td>148,294.00</td>\n",
       "      <td>148,294.00</td>\n",
       "      <td>148,294.00</td>\n",
       "      <td>...</td>\n",
       "      <td>67,782.00</td>\n",
       "      <td>67,432.00</td>\n",
       "      <td>52,010.00</td>\n",
       "      <td>56,562.00</td>\n",
       "      <td>55,848.00</td>\n",
       "      <td>19,635.00</td>\n",
       "      <td>61,023.00</td>\n",
       "      <td>37,875.00</td>\n",
       "      <td>148,293.00</td>\n",
       "      <td>148,239.00</td>\n",
       "    </tr>\n",
       "    <tr>\n",
       "      <th>mean</th>\n",
       "      <td>208,201,639,769,546.97</td>\n",
       "      <td>41,906,541,782.21</td>\n",
       "      <td>48,479,962,865,752.38</td>\n",
       "      <td>106.10</td>\n",
       "      <td>17.66</td>\n",
       "      <td>20,944,849.29</td>\n",
       "      <td>768,680.31</td>\n",
       "      <td>92.86</td>\n",
       "      <td>3.06</td>\n",
       "      <td>1.72</td>\n",
       "      <td>...</td>\n",
       "      <td>115,576,916.45</td>\n",
       "      <td>3,272,568.48</td>\n",
       "      <td>995.37</td>\n",
       "      <td>342.75</td>\n",
       "      <td>816.98</td>\n",
       "      <td>149.86</td>\n",
       "      <td>972.58</td>\n",
       "      <td>142.15</td>\n",
       "      <td>3,730.06</td>\n",
       "      <td>4,031.93</td>\n",
       "    </tr>\n",
       "    <tr>\n",
       "      <th>std</th>\n",
       "      <td>21,518,961,390.99</td>\n",
       "      <td>2,450,975,846,357.30</td>\n",
       "      <td>22,420,066,365,943.95</td>\n",
       "      <td>586.06</td>\n",
       "      <td>84.87</td>\n",
       "      <td>182,860,806.55</td>\n",
       "      <td>26,630,694.96</td>\n",
       "      <td>13.04</td>\n",
       "      <td>6.21</td>\n",
       "      <td>4.16</td>\n",
       "      <td>...</td>\n",
       "      <td>968,367,616.34</td>\n",
       "      <td>19,676,986.02</td>\n",
       "      <td>2,549.32</td>\n",
       "      <td>1,451.54</td>\n",
       "      <td>1,849.24</td>\n",
       "      <td>1,222.51</td>\n",
       "      <td>1,954.69</td>\n",
       "      <td>996.97</td>\n",
       "      <td>9,195.32</td>\n",
       "      <td>10,184.82</td>\n",
       "    </tr>\n",
       "    <tr>\n",
       "      <th>min</th>\n",
       "      <td>204,047,108,489,451.00</td>\n",
       "      <td>33,601,001,722.00</td>\n",
       "      <td>440,015,202,000.00</td>\n",
       "      <td>0.00</td>\n",
       "      <td>0.00</td>\n",
       "      <td>2.00</td>\n",
       "      <td>1.00</td>\n",
       "      <td>0.00</td>\n",
       "      <td>0.00</td>\n",
       "      <td>0.00</td>\n",
       "      <td>...</td>\n",
       "      <td>40.00</td>\n",
       "      <td>40.00</td>\n",
       "      <td>1.00</td>\n",
       "      <td>1.00</td>\n",
       "      <td>1.00</td>\n",
       "      <td>1.00</td>\n",
       "      <td>1.00</td>\n",
       "      <td>1.00</td>\n",
       "      <td>1.00</td>\n",
       "      <td>1.00</td>\n",
       "    </tr>\n",
       "    <tr>\n",
       "      <th>25%</th>\n",
       "      <td>208,201,401,263,920.00</td>\n",
       "      <td>33,651,311,444.25</td>\n",
       "      <td>35,460,708,897,832.00</td>\n",
       "      <td>32.00</td>\n",
       "      <td>2.00</td>\n",
       "      <td>35,651.75</td>\n",
       "      <td>4,648.25</td>\n",
       "      <td>91.00</td>\n",
       "      <td>0.00</td>\n",
       "      <td>0.00</td>\n",
       "      <td>...</td>\n",
       "      <td>114,512.50</td>\n",
       "      <td>24,672.00</td>\n",
       "      <td>20.00</td>\n",
       "      <td>10.00</td>\n",
       "      <td>26.00</td>\n",
       "      <td>2.00</td>\n",
       "      <td>39.00</td>\n",
       "      <td>3.00</td>\n",
       "      <td>87.00</td>\n",
       "      <td>106.00</td>\n",
       "    </tr>\n",
       "    <tr>\n",
       "      <th>50%</th>\n",
       "      <td>208,201,546,331,017.00</td>\n",
       "      <td>33,663,708,556.00</td>\n",
       "      <td>35,722,106,561,183.00</td>\n",
       "      <td>45.00</td>\n",
       "      <td>5.00</td>\n",
       "      <td>574,618.50</td>\n",
       "      <td>20,985.50</td>\n",
       "      <td>100.00</td>\n",
       "      <td>0.00</td>\n",
       "      <td>0.00</td>\n",
       "      <td>...</td>\n",
       "      <td>1,988,829.00</td>\n",
       "      <td>234,074.50</td>\n",
       "      <td>130.00</td>\n",
       "      <td>53.00</td>\n",
       "      <td>167.00</td>\n",
       "      <td>8.00</td>\n",
       "      <td>292.00</td>\n",
       "      <td>8.00</td>\n",
       "      <td>201.00</td>\n",
       "      <td>216.00</td>\n",
       "    </tr>\n",
       "    <tr>\n",
       "      <th>75%</th>\n",
       "      <td>208,201,771,620,051.00</td>\n",
       "      <td>33,683,515,176.75</td>\n",
       "      <td>86,119,704,676,500.00</td>\n",
       "      <td>69.00</td>\n",
       "      <td>15.00</td>\n",
       "      <td>3,792,758.75</td>\n",
       "      <td>84,386.75</td>\n",
       "      <td>100.00</td>\n",
       "      <td>4.00</td>\n",
       "      <td>1.00</td>\n",
       "      <td>...</td>\n",
       "      <td>25,826,577.50</td>\n",
       "      <td>1,569,300.25</td>\n",
       "      <td>704.00</td>\n",
       "      <td>205.00</td>\n",
       "      <td>767.00</td>\n",
       "      <td>35.00</td>\n",
       "      <td>1,102.00</td>\n",
       "      <td>32.00</td>\n",
       "      <td>2,651.00</td>\n",
       "      <td>2,442.50</td>\n",
       "    </tr>\n",
       "    <tr>\n",
       "      <th>max</th>\n",
       "      <td>214,074,303,349,628.00</td>\n",
       "      <td>882,397,108,489,451.00</td>\n",
       "      <td>99,001,201,327,774.00</td>\n",
       "      <td>96,923.00</td>\n",
       "      <td>7,120.00</td>\n",
       "      <td>4,294,425,570.00</td>\n",
       "      <td>2,908,226,006.00</td>\n",
       "      <td>100.00</td>\n",
       "      <td>93.00</td>\n",
       "      <td>100.00</td>\n",
       "      <td>...</td>\n",
       "      <td>72,530,636,168.00</td>\n",
       "      <td>1,491,889,672.00</td>\n",
       "      <td>81,476.00</td>\n",
       "      <td>85,412.00</td>\n",
       "      <td>58,525.00</td>\n",
       "      <td>50,553.00</td>\n",
       "      <td>66,913.00</td>\n",
       "      <td>49,565.00</td>\n",
       "      <td>604,061.00</td>\n",
       "      <td>604,122.00</td>\n",
       "    </tr>\n",
       "  </tbody>\n",
       "</table>\n",
       "<p>8 rows × 25 columns</p>\n",
       "</div>"
      ],
      "text/plain": [
       "                        IMSI          MSISDN/Number                  IMEI  \\\n",
       "count             149,001.00             148,506.00            148,999.00   \n",
       "mean  208,201,639,769,546.97      41,906,541,782.21 48,479,962,865,752.38   \n",
       "std        21,518,961,390.99   2,450,975,846,357.30 22,420,066,365,943.95   \n",
       "min   204,047,108,489,451.00      33,601,001,722.00    440,015,202,000.00   \n",
       "25%   208,201,401,263,920.00      33,651,311,444.25 35,460,708,897,832.00   \n",
       "50%   208,201,546,331,017.00      33,663,708,556.00 35,722,106,561,183.00   \n",
       "75%   208,201,771,620,051.00      33,683,515,176.75 86,119,704,676,500.00   \n",
       "max   214,074,303,349,628.00 882,397,108,489,451.00 99,001,201,327,774.00   \n",
       "\n",
       "       Avg RTT DL (ms)  Avg RTT UL (ms)  TCP DL Retrans. Vol (Bytes)  \\\n",
       "count       121,325.00       121,344.00                    61,104.00   \n",
       "mean            106.10            17.66                20,944,849.29   \n",
       "std             586.06            84.87               182,860,806.55   \n",
       "min               0.00             0.00                         2.00   \n",
       "25%              32.00             2.00                    35,651.75   \n",
       "50%              45.00             5.00                   574,618.50   \n",
       "75%              69.00            15.00                 3,792,758.75   \n",
       "max          96,923.00         7,120.00             4,294,425,570.00   \n",
       "\n",
       "       TCP UL Retrans. Vol (Bytes)  DL TP < 50 Kbps (%)  \\\n",
       "count                    52,642.00           148,294.00   \n",
       "mean                    768,680.31                92.86   \n",
       "std                  26,630,694.96                13.04   \n",
       "min                           1.00                 0.00   \n",
       "25%                       4,648.25                91.00   \n",
       "50%                      20,985.50               100.00   \n",
       "75%                      84,386.75               100.00   \n",
       "max               2,908,226,006.00               100.00   \n",
       "\n",
       "       50 Kbps < DL TP < 250 Kbps (%)  250 Kbps < DL TP < 1 Mbps (%)  ...  \\\n",
       "count                      148,294.00                     148,294.00  ...   \n",
       "mean                             3.06                           1.72  ...   \n",
       "std                              6.21                           4.16  ...   \n",
       "min                              0.00                           0.00  ...   \n",
       "25%                              0.00                           0.00  ...   \n",
       "50%                              0.00                           0.00  ...   \n",
       "75%                              4.00                           1.00  ...   \n",
       "max                             93.00                         100.00  ...   \n",
       "\n",
       "        HTTP DL (Bytes)  HTTP UL (Bytes)  Nb of sec with 125000B < Vol DL  \\\n",
       "count         67,782.00        67,432.00                        52,010.00   \n",
       "mean     115,576,916.45     3,272,568.48                           995.37   \n",
       "std      968,367,616.34    19,676,986.02                         2,549.32   \n",
       "min               40.00            40.00                             1.00   \n",
       "25%          114,512.50        24,672.00                            20.00   \n",
       "50%        1,988,829.00       234,074.50                           130.00   \n",
       "75%       25,826,577.50     1,569,300.25                           704.00   \n",
       "max   72,530,636,168.00 1,491,889,672.00                        81,476.00   \n",
       "\n",
       "       Nb of sec with 1250B < Vol UL < 6250B  \\\n",
       "count                              56,562.00   \n",
       "mean                                  342.75   \n",
       "std                                 1,451.54   \n",
       "min                                     1.00   \n",
       "25%                                    10.00   \n",
       "50%                                    53.00   \n",
       "75%                                   205.00   \n",
       "max                                85,412.00   \n",
       "\n",
       "       Nb of sec with 31250B < Vol DL < 125000B  \\\n",
       "count                                 55,848.00   \n",
       "mean                                     816.98   \n",
       "std                                    1,849.24   \n",
       "min                                        1.00   \n",
       "25%                                       26.00   \n",
       "50%                                      167.00   \n",
       "75%                                      767.00   \n",
       "max                                   58,525.00   \n",
       "\n",
       "       Nb of sec with 37500B < Vol UL  Nb of sec with 6250B < Vol DL < 31250B  \\\n",
       "count                       19,635.00                               61,023.00   \n",
       "mean                           149.86                                  972.58   \n",
       "std                          1,222.51                                1,954.69   \n",
       "min                              1.00                                    1.00   \n",
       "25%                              2.00                                   39.00   \n",
       "50%                              8.00                                  292.00   \n",
       "75%                             35.00                                1,102.00   \n",
       "max                         50,553.00                               66,913.00   \n",
       "\n",
       "       Nb of sec with 6250B < Vol UL < 37500B  Nb of sec with Vol DL < 6250B  \\\n",
       "count                               37,875.00                     148,293.00   \n",
       "mean                                   142.15                       3,730.06   \n",
       "std                                    996.97                       9,195.32   \n",
       "min                                      1.00                           1.00   \n",
       "25%                                      3.00                          87.00   \n",
       "50%                                      8.00                         201.00   \n",
       "75%                                     32.00                       2,651.00   \n",
       "max                                 49,565.00                     604,061.00   \n",
       "\n",
       "       Nb of sec with Vol UL < 1250B  \n",
       "count                     148,239.00  \n",
       "mean                        4,031.93  \n",
       "std                        10,184.82  \n",
       "min                             1.00  \n",
       "25%                           106.00  \n",
       "50%                           216.00  \n",
       "75%                         2,442.50  \n",
       "max                       604,122.00  \n",
       "\n",
       "[8 rows x 25 columns]"
      ]
     },
     "execution_count": 21,
     "metadata": {},
     "output_type": "execute_result"
    }
   ],
   "source": [
    "df[missing_non_categorical_columns].describe()"
   ]
  },
  {
   "cell_type": "code",
   "execution_count": 22,
   "id": "736396f4",
   "metadata": {},
   "outputs": [],
   "source": [
    "# for this columns their mean is equal to (nearly) their median so they have \n",
    "# normal distribution and we can impute them using the mean or median\n",
    "normal_dist_cols = ['IMSI']"
   ]
  },
  {
   "cell_type": "code",
   "execution_count": 23,
   "id": "d754984f",
   "metadata": {},
   "outputs": [],
   "source": [
    "df = impute_normal_dist_cols(df=df,cols=normal_dist_cols)"
   ]
  },
  {
   "cell_type": "code",
   "execution_count": 24,
   "id": "9c5f4d57",
   "metadata": {},
   "outputs": [
    {
     "data": {
      "text/plain": [
       "IMSI    0\n",
       "dtype: int64"
      ]
     },
     "execution_count": 24,
     "metadata": {},
     "output_type": "execute_result"
    }
   ],
   "source": [
    "df[normal_dist_cols].isnull().sum()"
   ]
  },
  {
   "cell_type": "code",
   "execution_count": 25,
   "id": "b0df3599",
   "metadata": {},
   "outputs": [
    {
     "name": "stdout",
     "output_type": "stream",
     "text": [
      "25\n",
      "24\n"
     ]
    }
   ],
   "source": [
    "print(len(missing_non_categorical_columns))\n",
    "missing_non_categorical_columns = set(missing_non_categorical_columns) - set(normal_dist_cols)\n",
    "print(len(missing_non_categorical_columns))\n"
   ]
  },
  {
   "cell_type": "code",
   "execution_count": 26,
   "id": "a1478fd0",
   "metadata": {},
   "outputs": [],
   "source": [
    "missing_non_categorical_columns = list(missing_non_categorical_columns)\n",
    "missing_non_categorical_columns.sort()"
   ]
  },
  {
   "cell_type": "code",
   "execution_count": 27,
   "id": "24cee68e",
   "metadata": {},
   "outputs": [
    {
     "data": {
      "text/plain": [
       "10 Kbps < UL TP < 50 Kbps (%)               0.52\n",
       "250 Kbps < DL TP < 1 Mbps (%)               0.48\n",
       "50 Kbps < DL TP < 250 Kbps (%)              0.48\n",
       "50 Kbps < UL TP < 300 Kbps (%)              0.52\n",
       "Avg RTT DL (ms)                            18.58\n",
       "Avg RTT UL (ms)                            18.57\n",
       "DL TP < 50 Kbps (%)                         0.48\n",
       "DL TP > 1 Mbps (%)                          0.48\n",
       "HTTP DL (Bytes)                            54.51\n",
       "HTTP UL (Bytes)                            54.75\n",
       "IMEI                                        0.01\n",
       "MSISDN/Number                               0.34\n",
       "Nb of sec with 125000B < Vol DL            65.10\n",
       "Nb of sec with 1250B < Vol UL < 6250B      62.04\n",
       "Nb of sec with 31250B < Vol DL < 125000B   62.52\n",
       "Nb of sec with 37500B < Vol UL             86.82\n",
       "Nb of sec with 6250B < Vol DL < 31250B     59.05\n",
       "Nb of sec with 6250B < Vol UL < 37500B     74.58\n",
       "Nb of sec with Vol DL < 6250B               0.48\n",
       "Nb of sec with Vol UL < 1250B               0.52\n",
       "TCP DL Retrans. Vol (Bytes)                58.99\n",
       "TCP UL Retrans. Vol (Bytes)                64.67\n",
       "UL TP < 10 Kbps (%)                         0.52\n",
       "UL TP > 300 Kbps (%)                        0.52\n",
       "dtype: float64"
      ]
     },
     "execution_count": 27,
     "metadata": {},
     "output_type": "execute_result"
    }
   ],
   "source": [
    "df[missing_non_categorical_columns].isnull().sum()/df.shape[0]*100"
   ]
  },
  {
   "cell_type": "code",
   "execution_count": 28,
   "id": "6a8ee69f",
   "metadata": {},
   "outputs": [],
   "source": [
    "df_temp = df[missing_non_categorical_columns].isnull().sum()/df.shape[0]*100\n",
    "missing_less_cols = []\n",
    "final_missing_cols = []\n",
    "for i,x in df_temp.items():\n",
    "    if x <1:\n",
    "        missing_less_cols.append(i)\n",
    "    else:\n",
    "        final_missing_cols.append(i)"
   ]
  },
  {
   "cell_type": "code",
   "execution_count": 29,
   "id": "1f589be0",
   "metadata": {},
   "outputs": [
    {
     "data": {
      "text/plain": [
       "10 Kbps < UL TP < 50 Kbps (%)    0.52\n",
       "250 Kbps < DL TP < 1 Mbps (%)    0.48\n",
       "50 Kbps < DL TP < 250 Kbps (%)   0.48\n",
       "50 Kbps < UL TP < 300 Kbps (%)   0.52\n",
       "DL TP < 50 Kbps (%)              0.48\n",
       "DL TP > 1 Mbps (%)               0.48\n",
       "IMEI                             0.01\n",
       "MSISDN/Number                    0.34\n",
       "Nb of sec with Vol DL < 6250B    0.48\n",
       "Nb of sec with Vol UL < 1250B    0.52\n",
       "UL TP < 10 Kbps (%)              0.52\n",
       "UL TP > 300 Kbps (%)             0.52\n",
       "dtype: float64"
      ]
     },
     "execution_count": 29,
     "metadata": {},
     "output_type": "execute_result"
    }
   ],
   "source": [
    "# columns with missing value that is less than 1%\n",
    "df[missing_less_cols].isnull().sum()/df.shape[0]*100\n"
   ]
  },
  {
   "cell_type": "code",
   "execution_count": 30,
   "id": "3e2d1acc",
   "metadata": {},
   "outputs": [
    {
     "data": {
      "text/plain": [
       "Avg RTT DL (ms)                            18.58\n",
       "Avg RTT UL (ms)                            18.57\n",
       "HTTP DL (Bytes)                            54.51\n",
       "HTTP UL (Bytes)                            54.75\n",
       "Nb of sec with 125000B < Vol DL            65.10\n",
       "Nb of sec with 1250B < Vol UL < 6250B      62.04\n",
       "Nb of sec with 31250B < Vol DL < 125000B   62.52\n",
       "Nb of sec with 37500B < Vol UL             86.82\n",
       "Nb of sec with 6250B < Vol DL < 31250B     59.05\n",
       "Nb of sec with 6250B < Vol UL < 37500B     74.58\n",
       "TCP DL Retrans. Vol (Bytes)                58.99\n",
       "TCP UL Retrans. Vol (Bytes)                64.67\n",
       "dtype: float64"
      ]
     },
     "execution_count": 30,
     "metadata": {},
     "output_type": "execute_result"
    }
   ],
   "source": [
    "# columns with missing value that is more than 1%\n",
    "df[final_missing_cols].isnull().sum()/df.shape[0]*100\n"
   ]
  },
  {
   "cell_type": "code",
   "execution_count": 31,
   "id": "30633df0",
   "metadata": {},
   "outputs": [],
   "source": [
    "# we can see select those with minimum null percentage and impute them using their median\n",
    "df = impute_skewed(df=df,cols=missing_less_cols)"
   ]
  },
  {
   "cell_type": "code",
   "execution_count": 32,
   "id": "095c9877",
   "metadata": {},
   "outputs": [
    {
     "data": {
      "text/plain": [
       "10 Kbps < UL TP < 50 Kbps (%)     0\n",
       "250 Kbps < DL TP < 1 Mbps (%)     0\n",
       "50 Kbps < DL TP < 250 Kbps (%)    0\n",
       "50 Kbps < UL TP < 300 Kbps (%)    0\n",
       "DL TP < 50 Kbps (%)               0\n",
       "DL TP > 1 Mbps (%)                0\n",
       "IMEI                              0\n",
       "MSISDN/Number                     0\n",
       "Nb of sec with Vol DL < 6250B     0\n",
       "Nb of sec with Vol UL < 1250B     0\n",
       "UL TP < 10 Kbps (%)               0\n",
       "UL TP > 300 Kbps (%)              0\n",
       "dtype: int64"
      ]
     },
     "execution_count": 32,
     "metadata": {},
     "output_type": "execute_result"
    }
   ],
   "source": [
    "df[missing_less_cols].isnull().sum()"
   ]
  },
  {
   "cell_type": "code",
   "execution_count": 33,
   "id": "c2860a68",
   "metadata": {},
   "outputs": [
    {
     "data": {
      "text/plain": [
       "Avg RTT DL (ms)                              27685\n",
       "Avg RTT UL (ms)                              27666\n",
       "HTTP DL (Bytes)                              81228\n",
       "HTTP UL (Bytes)                              81578\n",
       "Nb of sec with 125000B < Vol DL              97000\n",
       "Nb of sec with 1250B < Vol UL < 6250B        92448\n",
       "Nb of sec with 31250B < Vol DL < 125000B     93162\n",
       "Nb of sec with 37500B < Vol UL              129375\n",
       "Nb of sec with 6250B < Vol DL < 31250B       87987\n",
       "Nb of sec with 6250B < Vol UL < 37500B      111135\n",
       "TCP DL Retrans. Vol (Bytes)                  87906\n",
       "TCP UL Retrans. Vol (Bytes)                  96368\n",
       "dtype: int64"
      ]
     },
     "execution_count": 33,
     "metadata": {},
     "output_type": "execute_result"
    }
   ],
   "source": [
    "# we can impute these features using KNN imputing or the novel approach of multivariate feature imputation [we can evaluate their performamnce later]\n",
    "df[final_missing_cols].isnull().sum()"
   ]
  },
  {
   "cell_type": "markdown",
   "id": "2e5ce275",
   "metadata": {},
   "source": [
    "# Encoding\n",
    "\n",
    "### Frequency Encoding\n",
    "- I used frequency encoding because the number of occurence is an important information in the categorical features as it represents customers choice"
   ]
  },
  {
   "cell_type": "code",
   "execution_count": 34,
   "id": "11d32687",
   "metadata": {},
   "outputs": [],
   "source": [
    "categorical_columns = [col for col in df.columns if  df[col].dtype=='object']"
   ]
  },
  {
   "cell_type": "code",
   "execution_count": 35,
   "id": "4ee2d43d",
   "metadata": {},
   "outputs": [
    {
     "data": {
      "text/plain": [
       "['Last Location Name', 'Handset Manufacturer', 'Handset Type']"
      ]
     },
     "execution_count": 35,
     "metadata": {},
     "output_type": "execute_result"
    }
   ],
   "source": [
    "categorical_columns"
   ]
  },
  {
   "cell_type": "code",
   "execution_count": 36,
   "id": "dc751829",
   "metadata": {},
   "outputs": [
    {
     "data": {
      "text/html": [
       "<div>\n",
       "<style scoped>\n",
       "    .dataframe tbody tr th:only-of-type {\n",
       "        vertical-align: middle;\n",
       "    }\n",
       "\n",
       "    .dataframe tbody tr th {\n",
       "        vertical-align: top;\n",
       "    }\n",
       "\n",
       "    .dataframe thead th {\n",
       "        text-align: right;\n",
       "    }\n",
       "</style>\n",
       "<table border=\"1\" class=\"dataframe\">\n",
       "  <thead>\n",
       "    <tr style=\"text-align: right;\">\n",
       "      <th></th>\n",
       "      <th>Bearer Id</th>\n",
       "      <th>Start</th>\n",
       "      <th>Start ms</th>\n",
       "      <th>End</th>\n",
       "      <th>End ms</th>\n",
       "      <th>Dur. (ms)</th>\n",
       "      <th>IMSI</th>\n",
       "      <th>MSISDN/Number</th>\n",
       "      <th>IMEI</th>\n",
       "      <th>Last Location Name</th>\n",
       "      <th>...</th>\n",
       "      <th>Youtube DL (Bytes)</th>\n",
       "      <th>Youtube UL (Bytes)</th>\n",
       "      <th>Netflix DL (Bytes)</th>\n",
       "      <th>Netflix UL (Bytes)</th>\n",
       "      <th>Gaming DL (Bytes)</th>\n",
       "      <th>Gaming UL (Bytes)</th>\n",
       "      <th>Other DL (Bytes)</th>\n",
       "      <th>Other UL (Bytes)</th>\n",
       "      <th>Total UL (Bytes)</th>\n",
       "      <th>Total DL (Bytes)</th>\n",
       "    </tr>\n",
       "  </thead>\n",
       "  <tbody>\n",
       "    <tr>\n",
       "      <th>0</th>\n",
       "      <td>13,114,483,460,844,900,352.00</td>\n",
       "      <td>2019-04-04 12:01:18</td>\n",
       "      <td>770.00</td>\n",
       "      <td>2019-04-25 14:35:31</td>\n",
       "      <td>662.00</td>\n",
       "      <td>1,823,652.00</td>\n",
       "      <td>208,201,448,079,117.00</td>\n",
       "      <td>33,664,962,239.00</td>\n",
       "      <td>35,521,209,507,511.00</td>\n",
       "      <td>9164566995485190</td>\n",
       "      <td>...</td>\n",
       "      <td>15,854,611.00</td>\n",
       "      <td>2,501,332.00</td>\n",
       "      <td>8,198,936.00</td>\n",
       "      <td>9,656,251.00</td>\n",
       "      <td>278,082,303.00</td>\n",
       "      <td>14,344,150.00</td>\n",
       "      <td>171,744,450.00</td>\n",
       "      <td>8,814,393.00</td>\n",
       "      <td>36,749,741.00</td>\n",
       "      <td>308,879,636.00</td>\n",
       "    </tr>\n",
       "    <tr>\n",
       "      <th>1</th>\n",
       "      <td>13,114,483,482,878,900,224.00</td>\n",
       "      <td>2019-04-09 13:04:04</td>\n",
       "      <td>235.00</td>\n",
       "      <td>2019-04-25 08:15:48</td>\n",
       "      <td>606.00</td>\n",
       "      <td>1,365,104.00</td>\n",
       "      <td>208,201,909,211,140.00</td>\n",
       "      <td>33,681,854,413.00</td>\n",
       "      <td>35,794,009,006,359.00</td>\n",
       "      <td>L77566A</td>\n",
       "      <td>...</td>\n",
       "      <td>20,247,395.00</td>\n",
       "      <td>19,111,729.00</td>\n",
       "      <td>18,338,413.00</td>\n",
       "      <td>17,227,132.00</td>\n",
       "      <td>608,750,074.00</td>\n",
       "      <td>1,170,709.00</td>\n",
       "      <td>526,904,238.00</td>\n",
       "      <td>15,055,145.00</td>\n",
       "      <td>53,800,391.00</td>\n",
       "      <td>653,384,965.00</td>\n",
       "    </tr>\n",
       "    <tr>\n",
       "      <th>2</th>\n",
       "      <td>13,114,483,484,080,500,736.00</td>\n",
       "      <td>2019-04-09 17:42:11</td>\n",
       "      <td>1.00</td>\n",
       "      <td>2019-04-25 11:58:13</td>\n",
       "      <td>652.00</td>\n",
       "      <td>1,361,762.00</td>\n",
       "      <td>208,200,314,458,056.00</td>\n",
       "      <td>33,760,627,129.00</td>\n",
       "      <td>35,281,510,359,387.00</td>\n",
       "      <td>D42335A</td>\n",
       "      <td>...</td>\n",
       "      <td>19,725,661.00</td>\n",
       "      <td>14,699,576.00</td>\n",
       "      <td>17,587,794.00</td>\n",
       "      <td>6,163,408.00</td>\n",
       "      <td>229,584,621.00</td>\n",
       "      <td>395,630.00</td>\n",
       "      <td>410,692,588.00</td>\n",
       "      <td>4,215,763.00</td>\n",
       "      <td>27,883,638.00</td>\n",
       "      <td>279,807,335.00</td>\n",
       "    </tr>\n",
       "    <tr>\n",
       "      <th>3</th>\n",
       "      <td>13,114,483,485,442,799,616.00</td>\n",
       "      <td>2019-04-10 00:31:25</td>\n",
       "      <td>486.00</td>\n",
       "      <td>2019-04-25 07:36:35</td>\n",
       "      <td>171.00</td>\n",
       "      <td>1,321,509.00</td>\n",
       "      <td>208,201,402,342,131.00</td>\n",
       "      <td>33,750,343,200.00</td>\n",
       "      <td>35,356,610,164,913.00</td>\n",
       "      <td>T21824A</td>\n",
       "      <td>...</td>\n",
       "      <td>21,388,122.00</td>\n",
       "      <td>15,146,643.00</td>\n",
       "      <td>13,994,646.00</td>\n",
       "      <td>1,097,942.00</td>\n",
       "      <td>799,538,153.00</td>\n",
       "      <td>10,849,722.00</td>\n",
       "      <td>749,039,933.00</td>\n",
       "      <td>12,797,283.00</td>\n",
       "      <td>43,324,218.00</td>\n",
       "      <td>846,028,530.00</td>\n",
       "    </tr>\n",
       "    <tr>\n",
       "      <th>4</th>\n",
       "      <td>13,114,483,499,480,700,928.00</td>\n",
       "      <td>2019-04-12 20:10:23</td>\n",
       "      <td>565.00</td>\n",
       "      <td>2019-04-25 10:40:32</td>\n",
       "      <td>954.00</td>\n",
       "      <td>1,089,009.00</td>\n",
       "      <td>208,201,401,415,120.00</td>\n",
       "      <td>33,699,795,932.00</td>\n",
       "      <td>35,407,009,745,539.00</td>\n",
       "      <td>D88865A</td>\n",
       "      <td>...</td>\n",
       "      <td>15,259,380.00</td>\n",
       "      <td>18,962,873.00</td>\n",
       "      <td>17,124,581.00</td>\n",
       "      <td>415,218.00</td>\n",
       "      <td>527,707,248.00</td>\n",
       "      <td>3,529,801.00</td>\n",
       "      <td>550,709,500.00</td>\n",
       "      <td>13,910,322.00</td>\n",
       "      <td>38,542,814.00</td>\n",
       "      <td>569,138,589.00</td>\n",
       "    </tr>\n",
       "    <tr>\n",
       "      <th>...</th>\n",
       "      <td>...</td>\n",
       "      <td>...</td>\n",
       "      <td>...</td>\n",
       "      <td>...</td>\n",
       "      <td>...</td>\n",
       "      <td>...</td>\n",
       "      <td>...</td>\n",
       "      <td>...</td>\n",
       "      <td>...</td>\n",
       "      <td>...</td>\n",
       "      <td>...</td>\n",
       "      <td>...</td>\n",
       "      <td>...</td>\n",
       "      <td>...</td>\n",
       "      <td>...</td>\n",
       "      <td>...</td>\n",
       "      <td>...</td>\n",
       "      <td>...</td>\n",
       "      <td>...</td>\n",
       "      <td>...</td>\n",
       "      <td>...</td>\n",
       "    </tr>\n",
       "    <tr>\n",
       "      <th>149995</th>\n",
       "      <td>13,042,425,979,329,300,480.00</td>\n",
       "      <td>2019-04-29 07:28:41</td>\n",
       "      <td>615.00</td>\n",
       "      <td>2019-04-30 00:01:49</td>\n",
       "      <td>407.00</td>\n",
       "      <td>59,587.00</td>\n",
       "      <td>208,201,402,604,057.00</td>\n",
       "      <td>33,668,648,496.00</td>\n",
       "      <td>35,332,510,508,318.00</td>\n",
       "      <td>T85721A</td>\n",
       "      <td>...</td>\n",
       "      <td>6,550,499.00</td>\n",
       "      <td>18,003,146.00</td>\n",
       "      <td>22,468,983.00</td>\n",
       "      <td>7,149,728.00</td>\n",
       "      <td>784,435,351.00</td>\n",
       "      <td>12,724,751.00</td>\n",
       "      <td>321,383,162.00</td>\n",
       "      <td>14,890,486.00</td>\n",
       "      <td>53,745,392.00</td>\n",
       "      <td>819,016,468.00</td>\n",
       "    </tr>\n",
       "    <tr>\n",
       "      <th>149996</th>\n",
       "      <td>7,277,825,670,196,679,680.00</td>\n",
       "      <td>2019-04-29 07:28:42</td>\n",
       "      <td>451.00</td>\n",
       "      <td>2019-04-30 06:02:33</td>\n",
       "      <td>214.00</td>\n",
       "      <td>81,230.00</td>\n",
       "      <td>208,202,201,200,072.00</td>\n",
       "      <td>33,650,688,697.00</td>\n",
       "      <td>35,483,109,451,938.00</td>\n",
       "      <td>D20434A</td>\n",
       "      <td>...</td>\n",
       "      <td>16,191,667.00</td>\n",
       "      <td>11,763,428.00</td>\n",
       "      <td>17,883,703.00</td>\n",
       "      <td>19,678,161.00</td>\n",
       "      <td>526,609,673.00</td>\n",
       "      <td>9,197,207.00</td>\n",
       "      <td>3,264,510.00</td>\n",
       "      <td>13,487,416.00</td>\n",
       "      <td>57,628,851.00</td>\n",
       "      <td>574,175,259.00</td>\n",
       "    </tr>\n",
       "    <tr>\n",
       "      <th>149997</th>\n",
       "      <td>7,349,883,264,234,609,664.00</td>\n",
       "      <td>2019-04-29 07:28:42</td>\n",
       "      <td>483.00</td>\n",
       "      <td>2019-04-30 10:41:33</td>\n",
       "      <td>187.00</td>\n",
       "      <td>97,970.00</td>\n",
       "      <td>208,201,908,153,249.00</td>\n",
       "      <td>33,663,449,963.00</td>\n",
       "      <td>35,660,508,296,467.00</td>\n",
       "      <td>D10223C</td>\n",
       "      <td>...</td>\n",
       "      <td>13,877,234.00</td>\n",
       "      <td>8,288,284.00</td>\n",
       "      <td>19,350,146.00</td>\n",
       "      <td>21,293,148.00</td>\n",
       "      <td>626,893,062.00</td>\n",
       "      <td>4,735,033.00</td>\n",
       "      <td>712,180,387.00</td>\n",
       "      <td>2,457,758.00</td>\n",
       "      <td>39,135,081.00</td>\n",
       "      <td>666,648,844.00</td>\n",
       "    </tr>\n",
       "    <tr>\n",
       "      <th>149998</th>\n",
       "      <td>13,114,483,573,367,300,096.00</td>\n",
       "      <td>2019-04-29 07:28:43</td>\n",
       "      <td>283.00</td>\n",
       "      <td>2019-04-30 10:46:12</td>\n",
       "      <td>810.00</td>\n",
       "      <td>98,249.00</td>\n",
       "      <td>208,201,711,161,187.00</td>\n",
       "      <td>33,621,890,103.00</td>\n",
       "      <td>35,721,209,870,907.00</td>\n",
       "      <td>T51102A</td>\n",
       "      <td>...</td>\n",
       "      <td>22,660,510.00</td>\n",
       "      <td>1,855,903.00</td>\n",
       "      <td>9,963,942.00</td>\n",
       "      <td>5,065,760.00</td>\n",
       "      <td>553,539,484.00</td>\n",
       "      <td>13,394,316.00</td>\n",
       "      <td>121,100,856.00</td>\n",
       "      <td>11,314,729.00</td>\n",
       "      <td>34,912,224.00</td>\n",
       "      <td>592,786,405.00</td>\n",
       "    </tr>\n",
       "    <tr>\n",
       "      <th>149999</th>\n",
       "      <td>13,114,483,573,367,300,096.00</td>\n",
       "      <td>2019-04-29 07:28:43</td>\n",
       "      <td>696.00</td>\n",
       "      <td>2019-04-30 10:40:34</td>\n",
       "      <td>327.00</td>\n",
       "      <td>97,910.00</td>\n",
       "      <td>208,202,101,098,075.00</td>\n",
       "      <td>33,619,622,058.00</td>\n",
       "      <td>86,186,204,011,457.00</td>\n",
       "      <td>L88342B</td>\n",
       "      <td>...</td>\n",
       "      <td>8,817,106.00</td>\n",
       "      <td>8,305,402.00</td>\n",
       "      <td>3,322,253.00</td>\n",
       "      <td>13,172,589.00</td>\n",
       "      <td>352,536,971.00</td>\n",
       "      <td>2,529,475.00</td>\n",
       "      <td>814,713,113.00</td>\n",
       "      <td>1,406,930.00</td>\n",
       "      <td>29,626,096.00</td>\n",
       "      <td>371,895,920.00</td>\n",
       "    </tr>\n",
       "  </tbody>\n",
       "</table>\n",
       "<p>149010 rows × 55 columns</p>\n",
       "</div>"
      ],
      "text/plain": [
       "                           Bearer Id               Start  Start ms  \\\n",
       "0      13,114,483,460,844,900,352.00 2019-04-04 12:01:18    770.00   \n",
       "1      13,114,483,482,878,900,224.00 2019-04-09 13:04:04    235.00   \n",
       "2      13,114,483,484,080,500,736.00 2019-04-09 17:42:11      1.00   \n",
       "3      13,114,483,485,442,799,616.00 2019-04-10 00:31:25    486.00   \n",
       "4      13,114,483,499,480,700,928.00 2019-04-12 20:10:23    565.00   \n",
       "...                              ...                 ...       ...   \n",
       "149995 13,042,425,979,329,300,480.00 2019-04-29 07:28:41    615.00   \n",
       "149996  7,277,825,670,196,679,680.00 2019-04-29 07:28:42    451.00   \n",
       "149997  7,349,883,264,234,609,664.00 2019-04-29 07:28:42    483.00   \n",
       "149998 13,114,483,573,367,300,096.00 2019-04-29 07:28:43    283.00   \n",
       "149999 13,114,483,573,367,300,096.00 2019-04-29 07:28:43    696.00   \n",
       "\n",
       "                       End  End ms    Dur. (ms)                   IMSI  \\\n",
       "0      2019-04-25 14:35:31  662.00 1,823,652.00 208,201,448,079,117.00   \n",
       "1      2019-04-25 08:15:48  606.00 1,365,104.00 208,201,909,211,140.00   \n",
       "2      2019-04-25 11:58:13  652.00 1,361,762.00 208,200,314,458,056.00   \n",
       "3      2019-04-25 07:36:35  171.00 1,321,509.00 208,201,402,342,131.00   \n",
       "4      2019-04-25 10:40:32  954.00 1,089,009.00 208,201,401,415,120.00   \n",
       "...                    ...     ...          ...                    ...   \n",
       "149995 2019-04-30 00:01:49  407.00    59,587.00 208,201,402,604,057.00   \n",
       "149996 2019-04-30 06:02:33  214.00    81,230.00 208,202,201,200,072.00   \n",
       "149997 2019-04-30 10:41:33  187.00    97,970.00 208,201,908,153,249.00   \n",
       "149998 2019-04-30 10:46:12  810.00    98,249.00 208,201,711,161,187.00   \n",
       "149999 2019-04-30 10:40:34  327.00    97,910.00 208,202,101,098,075.00   \n",
       "\n",
       "           MSISDN/Number                  IMEI Last Location Name  ...  \\\n",
       "0      33,664,962,239.00 35,521,209,507,511.00   9164566995485190  ...   \n",
       "1      33,681,854,413.00 35,794,009,006,359.00            L77566A  ...   \n",
       "2      33,760,627,129.00 35,281,510,359,387.00            D42335A  ...   \n",
       "3      33,750,343,200.00 35,356,610,164,913.00            T21824A  ...   \n",
       "4      33,699,795,932.00 35,407,009,745,539.00            D88865A  ...   \n",
       "...                  ...                   ...                ...  ...   \n",
       "149995 33,668,648,496.00 35,332,510,508,318.00            T85721A  ...   \n",
       "149996 33,650,688,697.00 35,483,109,451,938.00            D20434A  ...   \n",
       "149997 33,663,449,963.00 35,660,508,296,467.00            D10223C  ...   \n",
       "149998 33,621,890,103.00 35,721,209,870,907.00            T51102A  ...   \n",
       "149999 33,619,622,058.00 86,186,204,011,457.00            L88342B  ...   \n",
       "\n",
       "        Youtube DL (Bytes)  Youtube UL (Bytes)  Netflix DL (Bytes)  \\\n",
       "0            15,854,611.00        2,501,332.00        8,198,936.00   \n",
       "1            20,247,395.00       19,111,729.00       18,338,413.00   \n",
       "2            19,725,661.00       14,699,576.00       17,587,794.00   \n",
       "3            21,388,122.00       15,146,643.00       13,994,646.00   \n",
       "4            15,259,380.00       18,962,873.00       17,124,581.00   \n",
       "...                    ...                 ...                 ...   \n",
       "149995        6,550,499.00       18,003,146.00       22,468,983.00   \n",
       "149996       16,191,667.00       11,763,428.00       17,883,703.00   \n",
       "149997       13,877,234.00        8,288,284.00       19,350,146.00   \n",
       "149998       22,660,510.00        1,855,903.00        9,963,942.00   \n",
       "149999        8,817,106.00        8,305,402.00        3,322,253.00   \n",
       "\n",
       "        Netflix UL (Bytes)  Gaming DL (Bytes)  Gaming UL (Bytes)  \\\n",
       "0             9,656,251.00     278,082,303.00      14,344,150.00   \n",
       "1            17,227,132.00     608,750,074.00       1,170,709.00   \n",
       "2             6,163,408.00     229,584,621.00         395,630.00   \n",
       "3             1,097,942.00     799,538,153.00      10,849,722.00   \n",
       "4               415,218.00     527,707,248.00       3,529,801.00   \n",
       "...                    ...                ...                ...   \n",
       "149995        7,149,728.00     784,435,351.00      12,724,751.00   \n",
       "149996       19,678,161.00     526,609,673.00       9,197,207.00   \n",
       "149997       21,293,148.00     626,893,062.00       4,735,033.00   \n",
       "149998        5,065,760.00     553,539,484.00      13,394,316.00   \n",
       "149999       13,172,589.00     352,536,971.00       2,529,475.00   \n",
       "\n",
       "        Other DL (Bytes)  Other UL (Bytes)  Total UL (Bytes)  Total DL (Bytes)  \n",
       "0         171,744,450.00      8,814,393.00     36,749,741.00    308,879,636.00  \n",
       "1         526,904,238.00     15,055,145.00     53,800,391.00    653,384,965.00  \n",
       "2         410,692,588.00      4,215,763.00     27,883,638.00    279,807,335.00  \n",
       "3         749,039,933.00     12,797,283.00     43,324,218.00    846,028,530.00  \n",
       "4         550,709,500.00     13,910,322.00     38,542,814.00    569,138,589.00  \n",
       "...                  ...               ...               ...               ...  \n",
       "149995    321,383,162.00     14,890,486.00     53,745,392.00    819,016,468.00  \n",
       "149996      3,264,510.00     13,487,416.00     57,628,851.00    574,175,259.00  \n",
       "149997    712,180,387.00      2,457,758.00     39,135,081.00    666,648,844.00  \n",
       "149998    121,100,856.00     11,314,729.00     34,912,224.00    592,786,405.00  \n",
       "149999    814,713,113.00      1,406,930.00     29,626,096.00    371,895,920.00  \n",
       "\n",
       "[149010 rows x 55 columns]"
      ]
     },
     "execution_count": 36,
     "metadata": {},
     "output_type": "execute_result"
    }
   ],
   "source": [
    "df"
   ]
  },
  {
   "cell_type": "code",
   "execution_count": 37,
   "id": "e35a39fb",
   "metadata": {},
   "outputs": [],
   "source": [
    "df = frequency_encoder(df=df,cols=categorical_columns)"
   ]
  },
  {
   "cell_type": "markdown",
   "id": "4d3d629b",
   "metadata": {},
   "source": [
    "# Data Imputation\n"
   ]
  },
  {
   "cell_type": "code",
   "execution_count": 38,
   "id": "56256f12",
   "metadata": {},
   "outputs": [],
   "source": [
    "# we can remove the encoded features\n",
    "df = drop_cols(df=df,cols=categorical_columns)"
   ]
  },
  {
   "cell_type": "code",
   "execution_count": 39,
   "id": "9854a020",
   "metadata": {},
   "outputs": [],
   "source": [
    "total_cols_without_datetime= [x for x in df.columns if df[x].dtype != 'datetime64[ns]']"
   ]
  },
  {
   "cell_type": "markdown",
   "id": "0c57da22",
   "metadata": {},
   "source": [
    "### 1. KNN Imputer"
   ]
  },
  {
   "cell_type": "code",
   "execution_count": 40,
   "id": "ee655092",
   "metadata": {},
   "outputs": [],
   "source": [
    "from sklearn.impute import KNNImputer\n",
    "df_knn = df[total_cols_without_datetime].copy()"
   ]
  },
  {
   "cell_type": "code",
   "execution_count": 41,
   "id": "77677761",
   "metadata": {},
   "outputs": [],
   "source": [
    "# Initializing KNNImputer\n",
    "knn = KNNImputer()\n",
    "\n",
    "# knn.fit(df_knn)"
   ]
  },
  {
   "cell_type": "code",
   "execution_count": 42,
   "id": "6532bdc7",
   "metadata": {},
   "outputs": [],
   "source": [
    "# df_knn = knn.transform(df_knn)"
   ]
  },
  {
   "cell_type": "code",
   "execution_count": 64,
   "id": "817ee49f",
   "metadata": {},
   "outputs": [
    {
     "data": {
      "text/plain": [
       "(149010, 53)"
      ]
     },
     "execution_count": 64,
     "metadata": {},
     "output_type": "execute_result"
    }
   ],
   "source": [
    "df_knn.shape"
   ]
  },
  {
   "cell_type": "code",
   "execution_count": 62,
   "id": "244d5ba0",
   "metadata": {},
   "outputs": [],
   "source": [
    "df_knn = df_knn.drop(df_knn[df_knn['Bearer Id'] == 7349883264156584960.00].index)"
   ]
  },
  {
   "cell_type": "code",
   "execution_count": null,
   "id": "45b35b58",
   "metadata": {},
   "outputs": [],
   "source": [
    "df_knn = pd.DataFrame(data = df_knn,columns=total_cols_without_datetime)\n",
    "df_knn.to_pickle('data/df_knn.pkl')"
   ]
  },
  {
   "cell_type": "code",
   "execution_count": null,
   "id": "9bd58665",
   "metadata": {},
   "outputs": [],
   "source": []
  },
  {
   "cell_type": "markdown",
   "id": "b73c408b",
   "metadata": {},
   "source": [
    "### 2. Multi-variate Feature Imputer"
   ]
  },
  {
   "cell_type": "code",
   "execution_count": 43,
   "id": "3c544755",
   "metadata": {},
   "outputs": [],
   "source": [
    "df_iterative = df[total_cols_without_datetime].copy()"
   ]
  },
  {
   "cell_type": "code",
   "execution_count": 44,
   "id": "7f0dd7c1",
   "metadata": {
    "scrolled": true
   },
   "outputs": [],
   "source": [
    "\n",
    "from sklearn.experimental import enable_iterative_imputer\n",
    "from sklearn.impute import IterativeImputer\n",
    "imp = IterativeImputer(max_iter=10, random_state=0)\n",
    "imp.fit(df_iterative)\n",
    "df_iterative = imp.transform(df_iterative)"
   ]
  },
  {
   "cell_type": "code",
   "execution_count": 45,
   "id": "77bed0bd",
   "metadata": {},
   "outputs": [],
   "source": [
    "df_iterative = pd.DataFrame(data = df_iterative,columns=total_cols_without_datetime)"
   ]
  },
  {
   "cell_type": "code",
   "execution_count": 46,
   "id": "92061d59",
   "metadata": {},
   "outputs": [],
   "source": [
    "df_iterative.to_pickle('data/df_iterative.pkl')"
   ]
  },
  {
   "cell_type": "markdown",
   "id": "d64a597f",
   "metadata": {},
   "source": [
    "### 3. Median Imputer"
   ]
  },
  {
   "cell_type": "code",
   "execution_count": 47,
   "id": "20d66911",
   "metadata": {},
   "outputs": [],
   "source": [
    "df_median = df[total_cols_without_datetime].copy()\n"
   ]
  },
  {
   "cell_type": "code",
   "execution_count": 48,
   "id": "4e4c4440",
   "metadata": {},
   "outputs": [],
   "source": [
    "df_median = impute_skewed(df=df_median,cols=final_missing_cols)"
   ]
  },
  {
   "cell_type": "code",
   "execution_count": 49,
   "id": "f77b3d65",
   "metadata": {},
   "outputs": [],
   "source": [
    "df_median.to_pickle('data/df_median.pkl')"
   ]
  },
  {
   "cell_type": "markdown",
   "id": "ec150358",
   "metadata": {},
   "source": [
    "# Scaling and Standardization"
   ]
  },
  {
   "cell_type": "markdown",
   "id": "d7adf360",
   "metadata": {},
   "source": [
    "### minmax scaling"
   ]
  },
  {
   "cell_type": "code",
   "execution_count": 50,
   "id": "4de99162",
   "metadata": {},
   "outputs": [],
   "source": [
    "df_median=pd.read_pickle('data/df_median.pkl')\n",
    "df_iterative=pd.read_pickle('data/df_iterative.pkl')\n",
    "df_knn=pd.read_pickle('data/df_knn.pkl')"
   ]
  },
  {
   "cell_type": "code",
   "execution_count": 51,
   "id": "b9cb00b4",
   "metadata": {},
   "outputs": [],
   "source": [
    "columns = df_median.columns\n",
    "df_median = scale_dataframe(df=df_median,cols=columns)\n",
    "df_iterative = scale_dataframe(df=df_iterative,cols=columns)\n",
    "df_knn = scale_dataframe(df=df_knn,cols=columns)"
   ]
  },
  {
   "cell_type": "code",
   "execution_count": 52,
   "id": "72349058",
   "metadata": {},
   "outputs": [],
   "source": [
    "df_iterative.to_pickle('data/scaled_df_iterative.pkl')\n",
    "df_median.to_pickle('data/scaled_df_median.pkl')\n",
    "df_knn.to_pickle('data/scaled_df_knn.pkl')"
   ]
  },
  {
   "cell_type": "code",
   "execution_count": null,
   "id": "5d063946",
   "metadata": {},
   "outputs": [],
   "source": []
  }
 ],
 "metadata": {
  "kernelspec": {
   "display_name": "Python [conda env:root] *",
   "language": "python",
   "name": "conda-root-py"
  },
  "language_info": {
   "codemirror_mode": {
    "name": "ipython",
    "version": 3
   },
   "file_extension": ".py",
   "mimetype": "text/x-python",
   "name": "python",
   "nbconvert_exporter": "python",
   "pygments_lexer": "ipython3",
   "version": "3.8.5"
  }
 },
 "nbformat": 4,
 "nbformat_minor": 5
}
