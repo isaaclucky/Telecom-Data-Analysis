{
 "cells": [
  {
   "cell_type": "markdown",
   "id": "f71ff3f3",
   "metadata": {},
   "source": [
    "# Import Libraries"
   ]
  },
  {
   "cell_type": "code",
   "execution_count": 1,
   "id": "83736c11",
   "metadata": {},
   "outputs": [],
   "source": [
    "import os, sys\n",
    "path_parent = os.path.dirname(os.getcwd())\n",
    "os.chdir(path_parent)\n",
    "path_parent = os.path.dirname(os.getcwd())\n",
    "sys.path.insert(0, path_parent+'/Telecom-Data-Analysis/scripts')"
   ]
  },
  {
   "cell_type": "code",
   "execution_count": 2,
   "id": "5edc6330",
   "metadata": {},
   "outputs": [],
   "source": [
    "import pandas as pd\n",
    "import numpy as np\n",
    "import matplotlib.pyplot as plt\n",
    "import seaborn as sns\n",
    "import missingno as msno\n",
    "# !pip install openpyxl\n"
   ]
  },
  {
   "cell_type": "code",
   "execution_count": 3,
   "id": "e215c386",
   "metadata": {},
   "outputs": [],
   "source": [
    "from EDA import *\n",
    "from data_preprocess import *\n",
    "from data_clean import *"
   ]
  },
  {
   "cell_type": "code",
   "execution_count": 4,
   "id": "d4917080",
   "metadata": {},
   "outputs": [],
   "source": [
    "# df = pd.read_excel('../data/Week1_challenge_data_source.xlsx')\n",
    "df_desc =  pd.read_excel('data/Field Descriptions.xlsx')\n",
    "# df.to_pickle('../data/data_in_Dataframe.pkl')\n",
    "df = pd.read_pickle('data/data_in_Dataframe.pkl')\n"
   ]
  },
  {
   "cell_type": "markdown",
   "id": "527c4d91",
   "metadata": {},
   "source": [
    "# Explore Data"
   ]
  },
  {
   "cell_type": "code",
   "execution_count": 5,
   "id": "83cbf880",
   "metadata": {},
   "outputs": [
    {
     "data": {
      "text/plain": [
       "(150001, 55)"
      ]
     },
     "execution_count": 5,
     "metadata": {},
     "output_type": "execute_result"
    }
   ],
   "source": [
    "df.shape"
   ]
  },
  {
   "cell_type": "code",
   "execution_count": 6,
   "id": "2d3d0820",
   "metadata": {},
   "outputs": [
    {
     "data": {
      "text/plain": [
       "Bearer Id                                    0.660662\n",
       "Start                                        0.000667\n",
       "Start ms                                     0.000667\n",
       "End                                          0.000667\n",
       "End ms                                       0.000667\n",
       "Dur. (ms)                                    0.000667\n",
       "IMSI                                         0.379997\n",
       "MSISDN/Number                                0.710662\n",
       "IMEI                                         0.381331\n",
       "Last Location Name                           0.768662\n",
       "Avg RTT DL (ms)                             18.552543\n",
       "Avg RTT UL (ms)                             18.541210\n",
       "Avg Bearer TP DL (kbps)                      0.000667\n",
       "Avg Bearer TP UL (kbps)                      0.000667\n",
       "TCP DL Retrans. Vol (Bytes)                 58.763608\n",
       "TCP UL Retrans. Vol (Bytes)                 64.432237\n",
       "DL TP < 50 Kbps (%)                          0.502663\n",
       "50 Kbps < DL TP < 250 Kbps (%)               0.502663\n",
       "250 Kbps < DL TP < 1 Mbps (%)                0.502663\n",
       "DL TP > 1 Mbps (%)                           0.502663\n",
       "UL TP < 10 Kbps (%)                          0.527996\n",
       "10 Kbps < UL TP < 50 Kbps (%)                0.527996\n",
       "50 Kbps < UL TP < 300 Kbps (%)               0.527996\n",
       "UL TP > 300 Kbps (%)                         0.527996\n",
       "HTTP DL (Bytes)                             54.315638\n",
       "HTTP UL (Bytes)                             54.539636\n",
       "Activity Duration DL (ms)                    0.000667\n",
       "Activity Duration UL (ms)                    0.000667\n",
       "Dur. (ms).1                                  0.000667\n",
       "Handset Manufacturer                         0.381331\n",
       "Handset Type                                 0.381331\n",
       "Nb of sec with 125000B < Vol DL             65.024900\n",
       "Nb of sec with 1250B < Vol UL < 6250B       61.928920\n",
       "Nb of sec with 31250B < Vol DL < 125000B    62.390251\n",
       "Nb of sec with 37500B < Vol UL              86.835421\n",
       "Nb of sec with 6250B < Vol DL < 31250B      58.877607\n",
       "Nb of sec with 6250B < Vol UL < 37500B      74.561503\n",
       "Nb of sec with Vol DL < 6250B                0.503330\n",
       "Nb of sec with Vol UL < 1250B                0.528663\n",
       "Social Media DL (Bytes)                      0.000000\n",
       "Social Media UL (Bytes)                      0.000000\n",
       "Google DL (Bytes)                            0.000000\n",
       "Google UL (Bytes)                            0.000000\n",
       "Email DL (Bytes)                             0.000000\n",
       "Email UL (Bytes)                             0.000000\n",
       "Youtube DL (Bytes)                           0.000000\n",
       "Youtube UL (Bytes)                           0.000000\n",
       "Netflix DL (Bytes)                           0.000000\n",
       "Netflix UL (Bytes)                           0.000000\n",
       "Gaming DL (Bytes)                            0.000000\n",
       "Gaming UL (Bytes)                            0.000000\n",
       "Other DL (Bytes)                             0.000000\n",
       "Other UL (Bytes)                             0.000000\n",
       "Total UL (Bytes)                             0.000667\n",
       "Total DL (Bytes)                             0.000667\n",
       "dtype: float64"
      ]
     },
     "execution_count": 6,
     "metadata": {},
     "output_type": "execute_result"
    }
   ],
   "source": [
    "# the total amount of empty entries in each column with total percentage\n",
    "df.isnull().sum()/df.shape[0]*100"
   ]
  },
  {
   "cell_type": "code",
   "execution_count": 7,
   "id": "99d0c75c",
   "metadata": {},
   "outputs": [
    {
     "data": {
      "text/plain": [
       "Bearer Id                                          float64\n",
       "Start                                       datetime64[ns]\n",
       "Start ms                                           float64\n",
       "End                                         datetime64[ns]\n",
       "End ms                                             float64\n",
       "Dur. (ms)                                          float64\n",
       "IMSI                                               float64\n",
       "MSISDN/Number                                      float64\n",
       "IMEI                                               float64\n",
       "Last Location Name                                  object\n",
       "Avg RTT DL (ms)                                    float64\n",
       "Avg RTT UL (ms)                                    float64\n",
       "Avg Bearer TP DL (kbps)                            float64\n",
       "Avg Bearer TP UL (kbps)                            float64\n",
       "TCP DL Retrans. Vol (Bytes)                        float64\n",
       "TCP UL Retrans. Vol (Bytes)                        float64\n",
       "DL TP < 50 Kbps (%)                                float64\n",
       "50 Kbps < DL TP < 250 Kbps (%)                     float64\n",
       "250 Kbps < DL TP < 1 Mbps (%)                      float64\n",
       "DL TP > 1 Mbps (%)                                 float64\n",
       "UL TP < 10 Kbps (%)                                float64\n",
       "10 Kbps < UL TP < 50 Kbps (%)                      float64\n",
       "50 Kbps < UL TP < 300 Kbps (%)                     float64\n",
       "UL TP > 300 Kbps (%)                               float64\n",
       "HTTP DL (Bytes)                                    float64\n",
       "HTTP UL (Bytes)                                    float64\n",
       "Activity Duration DL (ms)                          float64\n",
       "Activity Duration UL (ms)                          float64\n",
       "Dur. (ms).1                                        float64\n",
       "Handset Manufacturer                                object\n",
       "Handset Type                                        object\n",
       "Nb of sec with 125000B < Vol DL                    float64\n",
       "Nb of sec with 1250B < Vol UL < 6250B              float64\n",
       "Nb of sec with 31250B < Vol DL < 125000B           float64\n",
       "Nb of sec with 37500B < Vol UL                     float64\n",
       "Nb of sec with 6250B < Vol DL < 31250B             float64\n",
       "Nb of sec with 6250B < Vol UL < 37500B             float64\n",
       "Nb of sec with Vol DL < 6250B                      float64\n",
       "Nb of sec with Vol UL < 1250B                      float64\n",
       "Social Media DL (Bytes)                            float64\n",
       "Social Media UL (Bytes)                            float64\n",
       "Google DL (Bytes)                                  float64\n",
       "Google UL (Bytes)                                  float64\n",
       "Email DL (Bytes)                                   float64\n",
       "Email UL (Bytes)                                   float64\n",
       "Youtube DL (Bytes)                                 float64\n",
       "Youtube UL (Bytes)                                 float64\n",
       "Netflix DL (Bytes)                                 float64\n",
       "Netflix UL (Bytes)                                 float64\n",
       "Gaming DL (Bytes)                                  float64\n",
       "Gaming UL (Bytes)                                  float64\n",
       "Other DL (Bytes)                                   float64\n",
       "Other UL (Bytes)                                   float64\n",
       "Total UL (Bytes)                                   float64\n",
       "Total DL (Bytes)                                   float64\n",
       "dtype: object"
      ]
     },
     "execution_count": 7,
     "metadata": {},
     "output_type": "execute_result"
    }
   ],
   "source": [
    "df.dtypes"
   ]
  },
  {
   "cell_type": "code",
   "execution_count": 8,
   "id": "2b1cef68",
   "metadata": {},
   "outputs": [],
   "source": [
    "# Columns having missing values\n",
    "missing_categorical_columns = [col for col in df.columns if df[col].isnull().sum() > 0 and df[col].dtype=='object']\n",
    "missing_non_categorical_columns = [col for col in df.columns if df[col].isnull().sum() > 0 and df[col].dtype !='object']"
   ]
  },
  {
   "cell_type": "code",
   "execution_count": 9,
   "id": "31571596",
   "metadata": {},
   "outputs": [
    {
     "name": "stdout",
     "output_type": "stream",
     "text": [
      "Last Location Name : 1153 (0.769%)\n",
      "Handset Manufacturer : 572 (0.381%)\n",
      "Handset Type : 572 (0.381%)\n"
     ]
    }
   ],
   "source": [
    "missing_percent = get_numerical_summary(df,missing_categorical_columns)\n"
   ]
  },
  {
   "cell_type": "code",
   "execution_count": 10,
   "id": "53163c7c",
   "metadata": {},
   "outputs": [
    {
     "name": "stdout",
     "output_type": "stream",
     "text": [
      "----------------------------------\n",
      "Last Location Name \n",
      "\n",
      "D41377B             80\n",
      "D17085A             59\n",
      "D72396C             57\n",
      "9164566985995010    55\n",
      "D73604C             55\n",
      "                    ..\n",
      "L61017C              1\n",
      "T94246B              1\n",
      "D72724B              1\n",
      "D21664A              1\n",
      "L88342B              1\n",
      "Name: Last Location Name, Length: 45547, dtype: int64\n",
      "----------------------------------\n",
      "Handset Manufacturer \n",
      "\n",
      "Apple                               59565\n",
      "Samsung                             40839\n",
      "Huawei                              34423\n",
      "undefined                            8987\n",
      "Sony Mobile Communications Ab         980\n",
      "                                    ...  \n",
      "Pt. Arga Mas Lestari                    1\n",
      "Doke Communication (Hk) Limited         1\n",
      "Vastking Technology (Hk) Limited        1\n",
      "Mobiwire Sas                            1\n",
      "Shenzhen Gaoxinqi                       1\n",
      "Name: Handset Manufacturer, Length: 170, dtype: int64\n",
      "----------------------------------\n",
      "Handset Type \n",
      "\n",
      "Huawei B528S-23A                                           19752\n",
      "Apple iPhone 6S (A1688)                                     9419\n",
      "Apple iPhone 6 (A1586)                                      9023\n",
      "undefined                                                   8987\n",
      "Apple iPhone 7 (A1778)                                      6326\n",
      "                                                           ...  \n",
      "Tct Mobile Suzho. Alcatel One Touch Y580D                      1\n",
      "Shenzhen Fortune. M-Ppas6                                      1\n",
      "Wiko Global Sasu Wiko Ridge 4G                                 1\n",
      "Hongkong Ipro Te. Ipro I9350 I9400 S3 Wave 3.5 Wave 4.0        1\n",
      "Shenzhen Jeko Co. Blackview Bv5800 Pro                         1\n",
      "Name: Handset Type, Length: 1396, dtype: int64\n",
      "----------------------------------\n"
     ]
    }
   ],
   "source": [
    "get_value_counts(df)"
   ]
  },
  {
   "cell_type": "code",
   "execution_count": 11,
   "id": "5dd267ab",
   "metadata": {},
   "outputs": [
    {
     "data": {
      "text/plain": [
       "Huawei B528S-23A                19752\n",
       "Apple iPhone 6S (A1688)          9419\n",
       "Apple iPhone 6 (A1586)           9023\n",
       "undefined                        8987\n",
       "Apple iPhone 7 (A1778)           6326\n",
       "Apple iPhone Se (A1723)          5187\n",
       "Apple iPhone 8 (A1905)           4993\n",
       "Apple iPhone Xr (A2105)          4568\n",
       "Samsung Galaxy S8 (Sm-G950F)     4520\n",
       "Apple iPhone X (A1901)           3813\n",
       "Name: Handset Type, dtype: int64"
      ]
     },
     "execution_count": 11,
     "metadata": {},
     "output_type": "execute_result"
    }
   ],
   "source": [
    "df['Handset Type'].value_counts()[:10]"
   ]
  },
  {
   "cell_type": "code",
   "execution_count": 12,
   "id": "1740ea8f",
   "metadata": {},
   "outputs": [
    {
     "data": {
      "text/html": [
       "<div>\n",
       "<style scoped>\n",
       "    .dataframe tbody tr th:only-of-type {\n",
       "        vertical-align: middle;\n",
       "    }\n",
       "\n",
       "    .dataframe tbody tr th {\n",
       "        vertical-align: top;\n",
       "    }\n",
       "\n",
       "    .dataframe thead th {\n",
       "        text-align: right;\n",
       "    }\n",
       "</style>\n",
       "<table border=\"1\" class=\"dataframe\">\n",
       "  <thead>\n",
       "    <tr style=\"text-align: right;\">\n",
       "      <th></th>\n",
       "      <th>Last Location Name</th>\n",
       "      <th>Handset Manufacturer</th>\n",
       "      <th>Handset Type</th>\n",
       "    </tr>\n",
       "  </thead>\n",
       "  <tbody>\n",
       "    <tr>\n",
       "      <th>count</th>\n",
       "      <td>148848</td>\n",
       "      <td>149429</td>\n",
       "      <td>149429</td>\n",
       "    </tr>\n",
       "    <tr>\n",
       "      <th>unique</th>\n",
       "      <td>45547</td>\n",
       "      <td>170</td>\n",
       "      <td>1396</td>\n",
       "    </tr>\n",
       "    <tr>\n",
       "      <th>top</th>\n",
       "      <td>D41377B</td>\n",
       "      <td>Apple</td>\n",
       "      <td>Huawei B528S-23A</td>\n",
       "    </tr>\n",
       "    <tr>\n",
       "      <th>freq</th>\n",
       "      <td>80</td>\n",
       "      <td>59565</td>\n",
       "      <td>19752</td>\n",
       "    </tr>\n",
       "  </tbody>\n",
       "</table>\n",
       "</div>"
      ],
      "text/plain": [
       "       Last Location Name Handset Manufacturer      Handset Type\n",
       "count              148848               149429            149429\n",
       "unique              45547                  170              1396\n",
       "top               D41377B                Apple  Huawei B528S-23A\n",
       "freq                   80                59565             19752"
      ]
     },
     "execution_count": 12,
     "metadata": {},
     "output_type": "execute_result"
    }
   ],
   "source": [
    "df[missing_categorical_columns].describe()"
   ]
  },
  {
   "cell_type": "code",
   "execution_count": 13,
   "id": "9e281a95",
   "metadata": {},
   "outputs": [],
   "source": [
    "# we can remove it as outlier if the category missing biases the model\n",
    "df = add_missing(df,missing_categorical_columns)"
   ]
  },
  {
   "cell_type": "code",
   "execution_count": 14,
   "id": "9f7b4249",
   "metadata": {},
   "outputs": [
    {
     "data": {
      "text/plain": [
       "Last Location Name      0\n",
       "Handset Manufacturer    0\n",
       "Handset Type            0\n",
       "dtype: int64"
      ]
     },
     "execution_count": 14,
     "metadata": {},
     "output_type": "execute_result"
    }
   ],
   "source": [
    "df[missing_categorical_columns].isnull().sum()"
   ]
  },
  {
   "cell_type": "code",
   "execution_count": 15,
   "id": "165027f8",
   "metadata": {},
   "outputs": [
    {
     "name": "stdout",
     "output_type": "stream",
     "text": [
      "Start ==  Start time of the xDR (first frame timestamp)\n",
      "Start ms ==  Milliseconds offset of start time for the xDR (first frame timestamp)\n",
      "End ==  End time of the xDR (last frame timestamp)\n",
      "End ms ==  Milliseconds offset of end time of the xDR (last frame timestamp)\n",
      "Dur. (ms) ==  Total Duration of the xDR (in ms)\n",
      "IMSI ==  International Mobile Subscriber Identity\n",
      "MSISDN/Number ==  MS International PSTN/ISDN Number of mobile - customer number\n",
      "IMEI ==  International Mobile Equipment Identity\n",
      "Avg RTT DL (ms) ==  Average Round Trip Time measurement Downlink direction (msecond)\n",
      "Avg RTT UL (ms) ==  Average Round Trip Time measurement Uplink direction (msecond)\n",
      "Avg Bearer TP DL (kbps) ==  Average Bearer Throughput for Downlink (kbps) - based on BDR duration\n",
      "Avg Bearer TP UL (kbps) ==  Average Bearer Throughput for uplink (kbps) - based on BDR duration\n",
      "TCP DL Retrans. Vol (Bytes) ==  TCP volume of Downlink packets detected as retransmitted (bytes)\n",
      "TCP UL Retrans. Vol (Bytes) ==  TCP volume of Uplink packets detected as retransmitted (bytes)\n",
      "DL TP < 50 Kbps (%) ==  Duration ratio when Bearer Downlink Throughput < ….\n",
      "50 Kbps < DL TP < 250 Kbps (%) ==  Duration ratio when Bearer Downlink Throughput range is …\n",
      "250 Kbps < DL TP < 1 Mbps (%) ==  Duration ratio when Bearer Downlink Throughput range is …\n",
      "DL TP > 1 Mbps (%) ==  Duration ratio when Bearer Downlink Throughput > ….\n",
      "UL TP < 10 Kbps (%) ==  Duration ratio when Bearer Uplink Throughput < ….\n",
      "10 Kbps < UL TP < 50 Kbps (%) ==  Duration ratio when Bearer Uplink Throughput range is …\n",
      "50 Kbps < UL TP < 300 Kbps (%) ==  Duration ratio when Bearer Uplink Throughput range is …\n",
      "UL TP > 300 Kbps (%) ==  Duration ratio when Bearer Uplink Throughput > ….\n",
      "HTTP DL (Bytes) ==  HTTP data volume (in Bytes) received by the MS during this session\n",
      "HTTP UL (Bytes) ==  HTTP data volume (in Bytes) sent by the MS during this session\n",
      "Activity Duration DL (ms) ==  Activity Duration for downlink (ms) - excluding periods of inactivity > 500 ms\n",
      "Activity Duration UL (ms) ==  Activity Duration for uplink (ms) - excluding periods of inactivity > 500 ms\n",
      "Dur. (ms).1 ==  Total Duration of the xDR (in ms)\n",
      "Nb of sec with 125000B < Vol DL ==  Number of seconds with IP Volume DL >\n",
      "Nb of sec with 1250B < Vol UL < 6250B ==  Number of seconds with IP Volume UL between …\n",
      "Nb of sec with 31250B < Vol DL < 125000B ==  Number of seconds with IP Volume DL between …\n",
      "Nb of sec with 37500B < Vol UL ==  Number of seconds with IP Volume UL >\n",
      "Nb of sec with 6250B < Vol DL < 31250B ==  Number of seconds with IP Volume DL between …\n",
      "Nb of sec with 6250B < Vol UL < 37500B ==  Number of seconds with IP Volume UL between …\n",
      "Nb of sec with Vol DL < 6250B ==  Number of seconds with IP Volume DL <\n",
      "Nb of sec with Vol UL < 1250B ==  Number of seconds with IP Volume UL <\n",
      "Total UL (Bytes) ==  Data volume (in Bytes) sent by the MS during this session (IP layer + overhead)\n",
      "Total DL (Bytes) ==  Data volume (in Bytes) received by the MS during this session (IP layer + overhead)\n"
     ]
    }
   ],
   "source": [
    "data_description(df=df,df_desc=df_desc,cols=missing_non_categorical_columns)"
   ]
  },
  {
   "cell_type": "code",
   "execution_count": 16,
   "id": "cafa94e6",
   "metadata": {},
   "outputs": [
    {
     "data": {
      "image/png": "[encoded data removed]",
      "text/plain": [
       "<Figure size 1800x720 with 2 Axes>"
      ]
     },
     "metadata": {
      "needs_background": "light"
     },
     "output_type": "display_data"
    },
    {
     "data": {
      "text/plain": [
       "<Figure size 7200x4320 with 0 Axes>"
      ]
     },
     "metadata": {},
     "output_type": "display_data"
    }
   ],
   "source": [
    "plot_missingno(df)"
   ]
  },
  {
   "cell_type": "code",
   "execution_count": 17,
   "id": "43429959",
   "metadata": {},
   "outputs": [
    {
     "name": "stdout",
     "output_type": "stream",
     "text": [
      "Bearer Id : 991 (0.661%)\n",
      "Start : 1 (0.001%)\n",
      "Start ms : 1 (0.001%)\n",
      "End : 1 (0.001%)\n",
      "End ms : 1 (0.001%)\n",
      "Dur. (ms) : 1 (0.001%)\n",
      "IMSI : 570 (0.38%)\n",
      "MSISDN/Number : 1066 (0.711%)\n",
      "IMEI : 572 (0.381%)\n",
      "Avg RTT DL (ms) : 27829 (18.553%)\n",
      "Avg RTT UL (ms) : 27812 (18.541%)\n",
      "Avg Bearer TP DL (kbps) : 1 (0.001%)\n",
      "Avg Bearer TP UL (kbps) : 1 (0.001%)\n",
      "TCP DL Retrans. Vol (Bytes) : 88146 (58.764%)\n",
      "TCP UL Retrans. Vol (Bytes) : 96649 (64.432%)\n",
      "DL TP < 50 Kbps (%) : 754 (0.503%)\n",
      "50 Kbps < DL TP < 250 Kbps (%) : 754 (0.503%)\n",
      "250 Kbps < DL TP < 1 Mbps (%) : 754 (0.503%)\n",
      "DL TP > 1 Mbps (%) : 754 (0.503%)\n",
      "UL TP < 10 Kbps (%) : 792 (0.528%)\n",
      "10 Kbps < UL TP < 50 Kbps (%) : 792 (0.528%)\n",
      "50 Kbps < UL TP < 300 Kbps (%) : 792 (0.528%)\n",
      "UL TP > 300 Kbps (%) : 792 (0.528%)\n",
      "HTTP DL (Bytes) : 81474 (54.316%)\n",
      "HTTP UL (Bytes) : 81810 (54.54%)\n",
      "Activity Duration DL (ms) : 1 (0.001%)\n",
      "Activity Duration UL (ms) : 1 (0.001%)\n",
      "Dur. (ms).1 : 1 (0.001%)\n",
      "Nb of sec with 125000B < Vol DL : 97538 (65.025%)\n",
      "Nb of sec with 1250B < Vol UL < 6250B : 92894 (61.929%)\n",
      "Nb of sec with 31250B < Vol DL < 125000B : 93586 (62.39%)\n",
      "Nb of sec with 37500B < Vol UL : 130254 (86.835%)\n",
      "Nb of sec with 6250B < Vol DL < 31250B : 88317 (58.878%)\n",
      "Nb of sec with 6250B < Vol UL < 37500B : 111843 (74.562%)\n",
      "Nb of sec with Vol DL < 6250B : 755 (0.503%)\n",
      "Nb of sec with Vol UL < 1250B : 793 (0.529%)\n",
      "Total UL (Bytes) : 1 (0.001%)\n",
      "Total DL (Bytes) : 1 (0.001%)\n"
     ]
    }
   ],
   "source": [
    "noncat_missing_percent = get_numerical_summary(df=df,missing_cols=missing_non_categorical_columns)"
   ]
  },
  {
   "cell_type": "code",
   "execution_count": 18,
   "id": "6f89d405",
   "metadata": {},
   "outputs": [
    {
     "data": {
      "text/html": [
       "<div>\n",
       "<style scoped>\n",
       "    .dataframe tbody tr th:only-of-type {\n",
       "        vertical-align: middle;\n",
       "    }\n",
       "\n",
       "    .dataframe tbody tr th {\n",
       "        vertical-align: top;\n",
       "    }\n",
       "\n",
       "    .dataframe thead th {\n",
       "        text-align: right;\n",
       "    }\n",
       "</style>\n",
       "<table border=\"1\" class=\"dataframe\">\n",
       "  <thead>\n",
       "    <tr style=\"text-align: right;\">\n",
       "      <th></th>\n",
       "      <th>Bearer Id</th>\n",
       "      <th>Start ms</th>\n",
       "      <th>End ms</th>\n",
       "      <th>Dur. (ms)</th>\n",
       "      <th>IMSI</th>\n",
       "      <th>MSISDN/Number</th>\n",
       "      <th>IMEI</th>\n",
       "      <th>Avg RTT DL (ms)</th>\n",
       "      <th>Avg RTT UL (ms)</th>\n",
       "      <th>Avg Bearer TP DL (kbps)</th>\n",
       "      <th>...</th>\n",
       "      <th>Nb of sec with 125000B &lt; Vol DL</th>\n",
       "      <th>Nb of sec with 1250B &lt; Vol UL &lt; 6250B</th>\n",
       "      <th>Nb of sec with 31250B &lt; Vol DL &lt; 125000B</th>\n",
       "      <th>Nb of sec with 37500B &lt; Vol UL</th>\n",
       "      <th>Nb of sec with 6250B &lt; Vol DL &lt; 31250B</th>\n",
       "      <th>Nb of sec with 6250B &lt; Vol UL &lt; 37500B</th>\n",
       "      <th>Nb of sec with Vol DL &lt; 6250B</th>\n",
       "      <th>Nb of sec with Vol UL &lt; 1250B</th>\n",
       "      <th>Total UL (Bytes)</th>\n",
       "      <th>Total DL (Bytes)</th>\n",
       "    </tr>\n",
       "  </thead>\n",
       "  <tbody>\n",
       "    <tr>\n",
       "      <th>count</th>\n",
       "      <td>1.490100e+05</td>\n",
       "      <td>150000.000000</td>\n",
       "      <td>150000.000000</td>\n",
       "      <td>1.500000e+05</td>\n",
       "      <td>1.494310e+05</td>\n",
       "      <td>1.489350e+05</td>\n",
       "      <td>1.494290e+05</td>\n",
       "      <td>122172.000000</td>\n",
       "      <td>122189.000000</td>\n",
       "      <td>150000.000000</td>\n",
       "      <td>...</td>\n",
       "      <td>52463.000000</td>\n",
       "      <td>57107.000000</td>\n",
       "      <td>56415.000000</td>\n",
       "      <td>19747.000000</td>\n",
       "      <td>61684.000000</td>\n",
       "      <td>38158.000000</td>\n",
       "      <td>149246.000000</td>\n",
       "      <td>149208.000000</td>\n",
       "      <td>1.500000e+05</td>\n",
       "      <td>1.500000e+05</td>\n",
       "    </tr>\n",
       "    <tr>\n",
       "      <th>mean</th>\n",
       "      <td>1.013887e+19</td>\n",
       "      <td>499.188200</td>\n",
       "      <td>498.800880</td>\n",
       "      <td>1.046086e+05</td>\n",
       "      <td>2.082016e+14</td>\n",
       "      <td>4.188282e+10</td>\n",
       "      <td>4.847455e+13</td>\n",
       "      <td>109.795706</td>\n",
       "      <td>17.662883</td>\n",
       "      <td>13300.045927</td>\n",
       "      <td>...</td>\n",
       "      <td>989.699998</td>\n",
       "      <td>340.434395</td>\n",
       "      <td>810.837401</td>\n",
       "      <td>149.257052</td>\n",
       "      <td>965.464756</td>\n",
       "      <td>141.304812</td>\n",
       "      <td>3719.787552</td>\n",
       "      <td>4022.083454</td>\n",
       "      <td>4.112121e+07</td>\n",
       "      <td>4.546434e+08</td>\n",
       "    </tr>\n",
       "    <tr>\n",
       "      <th>std</th>\n",
       "      <td>2.893173e+18</td>\n",
       "      <td>288.611834</td>\n",
       "      <td>288.097653</td>\n",
       "      <td>8.103762e+04</td>\n",
       "      <td>2.148809e+10</td>\n",
       "      <td>2.447443e+12</td>\n",
       "      <td>2.241637e+13</td>\n",
       "      <td>619.782739</td>\n",
       "      <td>84.793524</td>\n",
       "      <td>23971.878541</td>\n",
       "      <td>...</td>\n",
       "      <td>2546.524440</td>\n",
       "      <td>1445.365032</td>\n",
       "      <td>1842.162008</td>\n",
       "      <td>1219.112287</td>\n",
       "      <td>1946.387608</td>\n",
       "      <td>993.349688</td>\n",
       "      <td>9171.609010</td>\n",
       "      <td>10160.324314</td>\n",
       "      <td>1.127639e+07</td>\n",
       "      <td>2.441429e+08</td>\n",
       "    </tr>\n",
       "    <tr>\n",
       "      <th>min</th>\n",
       "      <td>6.917538e+18</td>\n",
       "      <td>0.000000</td>\n",
       "      <td>0.000000</td>\n",
       "      <td>7.142000e+03</td>\n",
       "      <td>2.040471e+14</td>\n",
       "      <td>3.360100e+10</td>\n",
       "      <td>4.400152e+11</td>\n",
       "      <td>0.000000</td>\n",
       "      <td>0.000000</td>\n",
       "      <td>0.000000</td>\n",
       "      <td>...</td>\n",
       "      <td>1.000000</td>\n",
       "      <td>1.000000</td>\n",
       "      <td>1.000000</td>\n",
       "      <td>1.000000</td>\n",
       "      <td>1.000000</td>\n",
       "      <td>1.000000</td>\n",
       "      <td>1.000000</td>\n",
       "      <td>1.000000</td>\n",
       "      <td>2.866892e+06</td>\n",
       "      <td>7.114041e+06</td>\n",
       "    </tr>\n",
       "    <tr>\n",
       "      <th>25%</th>\n",
       "      <td>7.349883e+18</td>\n",
       "      <td>250.000000</td>\n",
       "      <td>251.000000</td>\n",
       "      <td>5.744050e+04</td>\n",
       "      <td>2.082014e+14</td>\n",
       "      <td>3.365130e+10</td>\n",
       "      <td>3.546071e+13</td>\n",
       "      <td>32.000000</td>\n",
       "      <td>2.000000</td>\n",
       "      <td>43.000000</td>\n",
       "      <td>...</td>\n",
       "      <td>20.000000</td>\n",
       "      <td>10.000000</td>\n",
       "      <td>26.000000</td>\n",
       "      <td>2.000000</td>\n",
       "      <td>39.000000</td>\n",
       "      <td>3.000000</td>\n",
       "      <td>87.000000</td>\n",
       "      <td>106.000000</td>\n",
       "      <td>3.322201e+07</td>\n",
       "      <td>2.431068e+08</td>\n",
       "    </tr>\n",
       "    <tr>\n",
       "      <th>50%</th>\n",
       "      <td>7.349883e+18</td>\n",
       "      <td>499.000000</td>\n",
       "      <td>500.000000</td>\n",
       "      <td>8.639900e+04</td>\n",
       "      <td>2.082015e+14</td>\n",
       "      <td>3.366371e+10</td>\n",
       "      <td>3.572201e+13</td>\n",
       "      <td>45.000000</td>\n",
       "      <td>5.000000</td>\n",
       "      <td>63.000000</td>\n",
       "      <td>...</td>\n",
       "      <td>128.000000</td>\n",
       "      <td>52.000000</td>\n",
       "      <td>164.000000</td>\n",
       "      <td>8.000000</td>\n",
       "      <td>288.000000</td>\n",
       "      <td>8.000000</td>\n",
       "      <td>203.000000</td>\n",
       "      <td>217.000000</td>\n",
       "      <td>4.114331e+07</td>\n",
       "      <td>4.558411e+08</td>\n",
       "    </tr>\n",
       "    <tr>\n",
       "      <th>75%</th>\n",
       "      <td>1.304243e+19</td>\n",
       "      <td>749.000000</td>\n",
       "      <td>750.000000</td>\n",
       "      <td>1.324302e+05</td>\n",
       "      <td>2.082018e+14</td>\n",
       "      <td>3.368349e+10</td>\n",
       "      <td>8.611970e+13</td>\n",
       "      <td>70.000000</td>\n",
       "      <td>15.000000</td>\n",
       "      <td>19710.750000</td>\n",
       "      <td>...</td>\n",
       "      <td>693.500000</td>\n",
       "      <td>203.000000</td>\n",
       "      <td>757.000000</td>\n",
       "      <td>35.000000</td>\n",
       "      <td>1092.000000</td>\n",
       "      <td>31.000000</td>\n",
       "      <td>2650.000000</td>\n",
       "      <td>2451.000000</td>\n",
       "      <td>4.903424e+07</td>\n",
       "      <td>6.657055e+08</td>\n",
       "    </tr>\n",
       "    <tr>\n",
       "      <th>max</th>\n",
       "      <td>1.318654e+19</td>\n",
       "      <td>999.000000</td>\n",
       "      <td>999.000000</td>\n",
       "      <td>1.859336e+06</td>\n",
       "      <td>2.140743e+14</td>\n",
       "      <td>8.823971e+14</td>\n",
       "      <td>9.900120e+13</td>\n",
       "      <td>96923.000000</td>\n",
       "      <td>7120.000000</td>\n",
       "      <td>378160.000000</td>\n",
       "      <td>...</td>\n",
       "      <td>81476.000000</td>\n",
       "      <td>85412.000000</td>\n",
       "      <td>58525.000000</td>\n",
       "      <td>50553.000000</td>\n",
       "      <td>66913.000000</td>\n",
       "      <td>49565.000000</td>\n",
       "      <td>604061.000000</td>\n",
       "      <td>604122.000000</td>\n",
       "      <td>7.833131e+07</td>\n",
       "      <td>9.029696e+08</td>\n",
       "    </tr>\n",
       "  </tbody>\n",
       "</table>\n",
       "<p>8 rows × 36 columns</p>\n",
       "</div>"
      ],
      "text/plain": [
       "          Bearer Id       Start ms         End ms     Dur. (ms)          IMSI  \\\n",
       "count  1.490100e+05  150000.000000  150000.000000  1.500000e+05  1.494310e+05   \n",
       "mean   1.013887e+19     499.188200     498.800880  1.046086e+05  2.082016e+14   \n",
       "std    2.893173e+18     288.611834     288.097653  8.103762e+04  2.148809e+10   \n",
       "min    6.917538e+18       0.000000       0.000000  7.142000e+03  2.040471e+14   \n",
       "25%    7.349883e+18     250.000000     251.000000  5.744050e+04  2.082014e+14   \n",
       "50%    7.349883e+18     499.000000     500.000000  8.639900e+04  2.082015e+14   \n",
       "75%    1.304243e+19     749.000000     750.000000  1.324302e+05  2.082018e+14   \n",
       "max    1.318654e+19     999.000000     999.000000  1.859336e+06  2.140743e+14   \n",
       "\n",
       "       MSISDN/Number          IMEI  Avg RTT DL (ms)  Avg RTT UL (ms)  \\\n",
       "count   1.489350e+05  1.494290e+05    122172.000000    122189.000000   \n",
       "mean    4.188282e+10  4.847455e+13       109.795706        17.662883   \n",
       "std     2.447443e+12  2.241637e+13       619.782739        84.793524   \n",
       "min     3.360100e+10  4.400152e+11         0.000000         0.000000   \n",
       "25%     3.365130e+10  3.546071e+13        32.000000         2.000000   \n",
       "50%     3.366371e+10  3.572201e+13        45.000000         5.000000   \n",
       "75%     3.368349e+10  8.611970e+13        70.000000        15.000000   \n",
       "max     8.823971e+14  9.900120e+13     96923.000000      7120.000000   \n",
       "\n",
       "       Avg Bearer TP DL (kbps)  ...  Nb of sec with 125000B < Vol DL  \\\n",
       "count            150000.000000  ...                     52463.000000   \n",
       "mean              13300.045927  ...                       989.699998   \n",
       "std               23971.878541  ...                      2546.524440   \n",
       "min                   0.000000  ...                         1.000000   \n",
       "25%                  43.000000  ...                        20.000000   \n",
       "50%                  63.000000  ...                       128.000000   \n",
       "75%               19710.750000  ...                       693.500000   \n",
       "max              378160.000000  ...                     81476.000000   \n",
       "\n",
       "       Nb of sec with 1250B < Vol UL < 6250B  \\\n",
       "count                           57107.000000   \n",
       "mean                              340.434395   \n",
       "std                              1445.365032   \n",
       "min                                 1.000000   \n",
       "25%                                10.000000   \n",
       "50%                                52.000000   \n",
       "75%                               203.000000   \n",
       "max                             85412.000000   \n",
       "\n",
       "       Nb of sec with 31250B < Vol DL < 125000B  \\\n",
       "count                              56415.000000   \n",
       "mean                                 810.837401   \n",
       "std                                 1842.162008   \n",
       "min                                    1.000000   \n",
       "25%                                   26.000000   \n",
       "50%                                  164.000000   \n",
       "75%                                  757.000000   \n",
       "max                                58525.000000   \n",
       "\n",
       "       Nb of sec with 37500B < Vol UL  Nb of sec with 6250B < Vol DL < 31250B  \\\n",
       "count                    19747.000000                            61684.000000   \n",
       "mean                       149.257052                              965.464756   \n",
       "std                       1219.112287                             1946.387608   \n",
       "min                          1.000000                                1.000000   \n",
       "25%                          2.000000                               39.000000   \n",
       "50%                          8.000000                              288.000000   \n",
       "75%                         35.000000                             1092.000000   \n",
       "max                      50553.000000                            66913.000000   \n",
       "\n",
       "       Nb of sec with 6250B < Vol UL < 37500B  Nb of sec with Vol DL < 6250B  \\\n",
       "count                            38158.000000                  149246.000000   \n",
       "mean                               141.304812                    3719.787552   \n",
       "std                                993.349688                    9171.609010   \n",
       "min                                  1.000000                       1.000000   \n",
       "25%                                  3.000000                      87.000000   \n",
       "50%                                  8.000000                     203.000000   \n",
       "75%                                 31.000000                    2650.000000   \n",
       "max                              49565.000000                  604061.000000   \n",
       "\n",
       "       Nb of sec with Vol UL < 1250B  Total UL (Bytes)  Total DL (Bytes)  \n",
       "count                  149208.000000      1.500000e+05      1.500000e+05  \n",
       "mean                     4022.083454      4.112121e+07      4.546434e+08  \n",
       "std                     10160.324314      1.127639e+07      2.441429e+08  \n",
       "min                         1.000000      2.866892e+06      7.114041e+06  \n",
       "25%                       106.000000      3.322201e+07      2.431068e+08  \n",
       "50%                       217.000000      4.114331e+07      4.558411e+08  \n",
       "75%                      2451.000000      4.903424e+07      6.657055e+08  \n",
       "max                    604122.000000      7.833131e+07      9.029696e+08  \n",
       "\n",
       "[8 rows x 36 columns]"
      ]
     },
     "execution_count": 18,
     "metadata": {},
     "output_type": "execute_result"
    }
   ],
   "source": [
    "df[missing_non_categorical_columns].describe()"
   ]
  },
  {
   "cell_type": "code",
   "execution_count": 19,
   "id": "736396f4",
   "metadata": {},
   "outputs": [],
   "source": [
    "# for this columns their mean is equal to (nearly) their median so they have \n",
    "# normal distribution and we can impute them using the mean or median\n",
    "normal_dist_cols = ['Start ms', 'End ms', 'IMSI']"
   ]
  },
  {
   "cell_type": "code",
   "execution_count": 20,
   "id": "d754984f",
   "metadata": {},
   "outputs": [],
   "source": [
    "df = impute_normal_dist_cols(df=df,cols=normal_dist_cols)"
   ]
  },
  {
   "cell_type": "code",
   "execution_count": 21,
   "id": "9c5f4d57",
   "metadata": {},
   "outputs": [
    {
     "data": {
      "text/plain": [
       "Start ms    0\n",
       "End ms      0\n",
       "IMSI        0\n",
       "dtype: int64"
      ]
     },
     "execution_count": 21,
     "metadata": {},
     "output_type": "execute_result"
    }
   ],
   "source": [
    "df[normal_dist_cols].isnull().sum()"
   ]
  },
  {
   "cell_type": "code",
   "execution_count": 22,
   "id": "b0df3599",
   "metadata": {},
   "outputs": [
    {
     "name": "stdout",
     "output_type": "stream",
     "text": [
      "38\n",
      "35\n"
     ]
    }
   ],
   "source": [
    "print(len(missing_non_categorical_columns))\n",
    "missing_non_categorical_columns = set(missing_non_categorical_columns) - set(normal_dist_cols)\n",
    "print(len(missing_non_categorical_columns))\n"
   ]
  },
  {
   "cell_type": "code",
   "execution_count": 23,
   "id": "a1478fd0",
   "metadata": {},
   "outputs": [],
   "source": [
    "missing_non_categorical_columns = list(missing_non_categorical_columns)\n",
    "missing_non_categorical_columns.sort()"
   ]
  },
  {
   "cell_type": "code",
   "execution_count": 24,
   "id": "24cee68e",
   "metadata": {},
   "outputs": [
    {
     "data": {
      "text/plain": [
       "10 Kbps < UL TP < 50 Kbps (%)                0.527996\n",
       "250 Kbps < DL TP < 1 Mbps (%)                0.502663\n",
       "50 Kbps < DL TP < 250 Kbps (%)               0.502663\n",
       "50 Kbps < UL TP < 300 Kbps (%)               0.527996\n",
       "Activity Duration DL (ms)                    0.000667\n",
       "Activity Duration UL (ms)                    0.000667\n",
       "Avg Bearer TP DL (kbps)                      0.000667\n",
       "Avg Bearer TP UL (kbps)                      0.000667\n",
       "Avg RTT DL (ms)                             18.552543\n",
       "Avg RTT UL (ms)                             18.541210\n",
       "Bearer Id                                    0.660662\n",
       "DL TP < 50 Kbps (%)                          0.502663\n",
       "DL TP > 1 Mbps (%)                           0.502663\n",
       "Dur. (ms)                                    0.000667\n",
       "Dur. (ms).1                                  0.000667\n",
       "End                                          0.000667\n",
       "HTTP DL (Bytes)                             54.315638\n",
       "HTTP UL (Bytes)                             54.539636\n",
       "IMEI                                         0.381331\n",
       "MSISDN/Number                                0.710662\n",
       "Nb of sec with 125000B < Vol DL             65.024900\n",
       "Nb of sec with 1250B < Vol UL < 6250B       61.928920\n",
       "Nb of sec with 31250B < Vol DL < 125000B    62.390251\n",
       "Nb of sec with 37500B < Vol UL              86.835421\n",
       "Nb of sec with 6250B < Vol DL < 31250B      58.877607\n",
       "Nb of sec with 6250B < Vol UL < 37500B      74.561503\n",
       "Nb of sec with Vol DL < 6250B                0.503330\n",
       "Nb of sec with Vol UL < 1250B                0.528663\n",
       "Start                                        0.000667\n",
       "TCP DL Retrans. Vol (Bytes)                 58.763608\n",
       "TCP UL Retrans. Vol (Bytes)                 64.432237\n",
       "Total DL (Bytes)                             0.000667\n",
       "Total UL (Bytes)                             0.000667\n",
       "UL TP < 10 Kbps (%)                          0.527996\n",
       "UL TP > 300 Kbps (%)                         0.527996\n",
       "dtype: float64"
      ]
     },
     "execution_count": 24,
     "metadata": {},
     "output_type": "execute_result"
    }
   ],
   "source": [
    "df[missing_non_categorical_columns].isnull().sum()/df.shape[0]*100"
   ]
  },
  {
   "cell_type": "code",
   "execution_count": 25,
   "id": "6a8ee69f",
   "metadata": {},
   "outputs": [],
   "source": [
    "df_temp = df[missing_non_categorical_columns].isnull().sum()/df.shape[0]*100\n",
    "missing_less_cols = []\n",
    "final_missing_cols = []\n",
    "for i,x in df_temp.items():\n",
    "    if x <1:\n",
    "        missing_less_cols.append(i)\n",
    "    else:\n",
    "        final_missing_cols.append(i)"
   ]
  },
  {
   "cell_type": "code",
   "execution_count": 26,
   "id": "1f589be0",
   "metadata": {},
   "outputs": [
    {
     "data": {
      "text/plain": [
       "10 Kbps < UL TP < 50 Kbps (%)     0.527996\n",
       "250 Kbps < DL TP < 1 Mbps (%)     0.502663\n",
       "50 Kbps < DL TP < 250 Kbps (%)    0.502663\n",
       "50 Kbps < UL TP < 300 Kbps (%)    0.527996\n",
       "Activity Duration DL (ms)         0.000667\n",
       "Activity Duration UL (ms)         0.000667\n",
       "Avg Bearer TP DL (kbps)           0.000667\n",
       "Avg Bearer TP UL (kbps)           0.000667\n",
       "Bearer Id                         0.660662\n",
       "DL TP < 50 Kbps (%)               0.502663\n",
       "DL TP > 1 Mbps (%)                0.502663\n",
       "Dur. (ms)                         0.000667\n",
       "Dur. (ms).1                       0.000667\n",
       "End                               0.000667\n",
       "IMEI                              0.381331\n",
       "MSISDN/Number                     0.710662\n",
       "Nb of sec with Vol DL < 6250B     0.503330\n",
       "Nb of sec with Vol UL < 1250B     0.528663\n",
       "Start                             0.000667\n",
       "Total DL (Bytes)                  0.000667\n",
       "Total UL (Bytes)                  0.000667\n",
       "UL TP < 10 Kbps (%)               0.527996\n",
       "UL TP > 300 Kbps (%)              0.527996\n",
       "dtype: float64"
      ]
     },
     "execution_count": 26,
     "metadata": {},
     "output_type": "execute_result"
    }
   ],
   "source": [
    "# columns with missing value that is less than 1%\n",
    "df[missing_less_cols].isnull().sum()/df.shape[0]*100\n"
   ]
  },
  {
   "cell_type": "code",
   "execution_count": 27,
   "id": "3e2d1acc",
   "metadata": {},
   "outputs": [
    {
     "data": {
      "text/plain": [
       "Avg RTT DL (ms)                             18.552543\n",
       "Avg RTT UL (ms)                             18.541210\n",
       "HTTP DL (Bytes)                             54.315638\n",
       "HTTP UL (Bytes)                             54.539636\n",
       "Nb of sec with 125000B < Vol DL             65.024900\n",
       "Nb of sec with 1250B < Vol UL < 6250B       61.928920\n",
       "Nb of sec with 31250B < Vol DL < 125000B    62.390251\n",
       "Nb of sec with 37500B < Vol UL              86.835421\n",
       "Nb of sec with 6250B < Vol DL < 31250B      58.877607\n",
       "Nb of sec with 6250B < Vol UL < 37500B      74.561503\n",
       "TCP DL Retrans. Vol (Bytes)                 58.763608\n",
       "TCP UL Retrans. Vol (Bytes)                 64.432237\n",
       "dtype: float64"
      ]
     },
     "execution_count": 27,
     "metadata": {},
     "output_type": "execute_result"
    }
   ],
   "source": [
    "# columns with missing value that is more than 1%\n",
    "df[final_missing_cols].isnull().sum()/df.shape[0]*100\n"
   ]
  },
  {
   "cell_type": "code",
   "execution_count": 28,
   "id": "30633df0",
   "metadata": {},
   "outputs": [],
   "source": [
    "# we can see select those with minimum null percentage and impute them using their median\n",
    "df = impute_skewed(df=df,cols=missing_less_cols)"
   ]
  },
  {
   "cell_type": "code",
   "execution_count": 29,
   "id": "095c9877",
   "metadata": {},
   "outputs": [
    {
     "data": {
      "text/plain": [
       "10 Kbps < UL TP < 50 Kbps (%)     0\n",
       "250 Kbps < DL TP < 1 Mbps (%)     0\n",
       "50 Kbps < DL TP < 250 Kbps (%)    0\n",
       "50 Kbps < UL TP < 300 Kbps (%)    0\n",
       "Activity Duration DL (ms)         0\n",
       "Activity Duration UL (ms)         0\n",
       "Avg Bearer TP DL (kbps)           0\n",
       "Avg Bearer TP UL (kbps)           0\n",
       "Bearer Id                         0\n",
       "DL TP < 50 Kbps (%)               0\n",
       "DL TP > 1 Mbps (%)                0\n",
       "Dur. (ms)                         0\n",
       "Dur. (ms).1                       0\n",
       "End                               0\n",
       "IMEI                              0\n",
       "MSISDN/Number                     0\n",
       "Nb of sec with Vol DL < 6250B     0\n",
       "Nb of sec with Vol UL < 1250B     0\n",
       "Start                             0\n",
       "Total DL (Bytes)                  0\n",
       "Total UL (Bytes)                  0\n",
       "UL TP < 10 Kbps (%)               0\n",
       "UL TP > 300 Kbps (%)              0\n",
       "dtype: int64"
      ]
     },
     "execution_count": 29,
     "metadata": {},
     "output_type": "execute_result"
    }
   ],
   "source": [
    "df[missing_less_cols].isnull().sum()"
   ]
  },
  {
   "cell_type": "code",
   "execution_count": 30,
   "id": "c2860a68",
   "metadata": {},
   "outputs": [
    {
     "data": {
      "text/plain": [
       "Avg RTT DL (ms)                              27829\n",
       "Avg RTT UL (ms)                              27812\n",
       "HTTP DL (Bytes)                              81474\n",
       "HTTP UL (Bytes)                              81810\n",
       "Nb of sec with 125000B < Vol DL              97538\n",
       "Nb of sec with 1250B < Vol UL < 6250B        92894\n",
       "Nb of sec with 31250B < Vol DL < 125000B     93586\n",
       "Nb of sec with 37500B < Vol UL              130254\n",
       "Nb of sec with 6250B < Vol DL < 31250B       88317\n",
       "Nb of sec with 6250B < Vol UL < 37500B      111843\n",
       "TCP DL Retrans. Vol (Bytes)                  88146\n",
       "TCP UL Retrans. Vol (Bytes)                  96649\n",
       "dtype: int64"
      ]
     },
     "execution_count": 30,
     "metadata": {},
     "output_type": "execute_result"
    }
   ],
   "source": [
    "# we can impute these features using KNN imputing or the novel approach of multivariate feature imputation [we can evaluate their performamnce later]\n",
    "df[final_missing_cols].isnull().sum()"
   ]
  },
  {
   "cell_type": "markdown",
   "id": "2e5ce275",
   "metadata": {},
   "source": [
    "# Encoding\n",
    "\n",
    "### Frequency Encoding\n",
    "- I used frequency encoding because the number of occurence is an important information in the categorical features as it represents customers choice"
   ]
  },
  {
   "cell_type": "code",
   "execution_count": 31,
   "id": "11d32687",
   "metadata": {},
   "outputs": [],
   "source": [
    "categorical_columns = [col for col in df.columns if  df[col].dtype=='object']"
   ]
  },
  {
   "cell_type": "code",
   "execution_count": 32,
   "id": "4ee2d43d",
   "metadata": {},
   "outputs": [
    {
     "data": {
      "text/plain": [
       "['Last Location Name', 'Handset Manufacturer', 'Handset Type']"
      ]
     },
     "execution_count": 32,
     "metadata": {},
     "output_type": "execute_result"
    }
   ],
   "source": [
    "categorical_columns"
   ]
  },
  {
   "cell_type": "code",
   "execution_count": 33,
   "id": "e35a39fb",
   "metadata": {},
   "outputs": [],
   "source": [
    "df = frequency_encoder(df=df,cols=categorical_columns)\n"
   ]
  },
  {
   "cell_type": "markdown",
   "id": "4d3d629b",
   "metadata": {},
   "source": [
    "# Data Imputation\n"
   ]
  },
  {
   "cell_type": "code",
   "execution_count": 34,
   "id": "56256f12",
   "metadata": {},
   "outputs": [],
   "source": [
    "# we can remove the encoded features\n",
    "df = drop_cols(df=df,cols=categorical_columns)"
   ]
  },
  {
   "cell_type": "code",
   "execution_count": 35,
   "id": "9854a020",
   "metadata": {},
   "outputs": [],
   "source": [
    "total_cols_without_datetime= [x for x in df.columns if df[x].dtype != 'datetime64[ns]']"
   ]
  },
  {
   "cell_type": "markdown",
   "id": "0c57da22",
   "metadata": {},
   "source": [
    "### 1. KNN Imputer"
   ]
  },
  {
   "cell_type": "code",
   "execution_count": 36,
   "id": "ee655092",
   "metadata": {},
   "outputs": [],
   "source": [
    "from sklearn.impute import KNNImputer\n",
    "df_knn = df[total_cols_without_datetime].copy()"
   ]
  },
  {
   "cell_type": "code",
   "execution_count": 37,
   "id": "77677761",
   "metadata": {},
   "outputs": [],
   "source": [
    "# Initializing KNNImputer\n",
    "knn = KNNImputer()\n",
    "\n",
    "# knn.fit(df_knn)"
   ]
  },
  {
   "cell_type": "code",
   "execution_count": 38,
   "id": "6532bdc7",
   "metadata": {},
   "outputs": [],
   "source": [
    "# df_knn = knn.transform(df_knn)"
   ]
  },
  {
   "cell_type": "code",
   "execution_count": null,
   "id": "45b35b58",
   "metadata": {},
   "outputs": [],
   "source": [
    "df_knn = pd.DataFrame(data = df_knn,columns=total_cols_without_datetime)\n",
    "df_iterative.to_pickle('data/df_knn.pkl')"
   ]
  },
  {
   "cell_type": "code",
   "execution_count": null,
   "id": "9bd58665",
   "metadata": {},
   "outputs": [],
   "source": []
  },
  {
   "cell_type": "markdown",
   "id": "b73c408b",
   "metadata": {},
   "source": [
    "### 2. Multi-variate Feature Imputer"
   ]
  },
  {
   "cell_type": "code",
   "execution_count": 39,
   "id": "3c544755",
   "metadata": {},
   "outputs": [],
   "source": [
    "df_iterative = df[total_cols_without_datetime].copy()"
   ]
  },
  {
   "cell_type": "code",
   "execution_count": 40,
   "id": "7f0dd7c1",
   "metadata": {
    "scrolled": true
   },
   "outputs": [],
   "source": [
    "\n",
    "from sklearn.experimental import enable_iterative_imputer\n",
    "from sklearn.impute import IterativeImputer\n",
    "imp = IterativeImputer(max_iter=10, random_state=0)\n",
    "imp.fit(df_iterative)\n",
    "df_iterative = imp.transform(df_iterative)"
   ]
  },
  {
   "cell_type": "code",
   "execution_count": 41,
   "id": "77bed0bd",
   "metadata": {},
   "outputs": [],
   "source": [
    "df_iterative = pd.DataFrame(data = df_iterative,columns=total_cols_without_datetime)"
   ]
  },
  {
   "cell_type": "code",
   "execution_count": 42,
   "id": "92061d59",
   "metadata": {},
   "outputs": [],
   "source": [
    "df_iterative.to_pickle('data/df_iterative.pkl')"
   ]
  },
  {
   "cell_type": "markdown",
   "id": "d64a597f",
   "metadata": {},
   "source": [
    "### 3. Median Imputer"
   ]
  },
  {
   "cell_type": "code",
   "execution_count": 43,
   "id": "20d66911",
   "metadata": {},
   "outputs": [],
   "source": [
    "df_median = df[total_cols_without_datetime].copy()\n"
   ]
  },
  {
   "cell_type": "code",
   "execution_count": 44,
   "id": "4e4c4440",
   "metadata": {},
   "outputs": [],
   "source": [
    "df_median = impute_skewed(df=df_median,cols=final_missing_cols)"
   ]
  },
  {
   "cell_type": "code",
   "execution_count": 45,
   "id": "f77b3d65",
   "metadata": {},
   "outputs": [],
   "source": [
    "df_median.to_pickle('data/df_median.pkl')"
   ]
  },
  {
   "cell_type": "markdown",
   "id": "ec150358",
   "metadata": {},
   "source": [
    "# Scaling and Standardization"
   ]
  },
  {
   "cell_type": "markdown",
   "id": "d7adf360",
   "metadata": {},
   "source": [
    "### minmax scaling"
   ]
  },
  {
   "cell_type": "code",
   "execution_count": 51,
   "id": "4de99162",
   "metadata": {},
   "outputs": [],
   "source": [
    "df_median=pd.read_pickle('data/df_median.pkl')\n",
    "df_iterative=pd.read_pickle('data/df_iterative.pkl')\n",
    "df_knn=pd.read_pickle('data/df_knn.pkl')"
   ]
  },
  {
   "cell_type": "code",
   "execution_count": 52,
   "id": "b9cb00b4",
   "metadata": {},
   "outputs": [],
   "source": [
    "columns = df_median.columns\n",
    "df_median = scale_dataframe(df=df_median,cols=columns)\n",
    "df_iterative = scale_dataframe(df=df_iterative,cols=columns)\n",
    "df_knn = scale_dataframe(df=df_knn,cols=columns)"
   ]
  },
  {
   "cell_type": "code",
   "execution_count": 53,
   "id": "72349058",
   "metadata": {},
   "outputs": [],
   "source": [
    "df_iterative.to_pickle('data/scaled_df_iterative.pkl')\n",
    "df_median.to_pickle('data/scaled_df_median.pkl')\n",
    "df_knn.to_pickle('data/scaled_df_knn.pkl')"
   ]
  },
  {
   "cell_type": "code",
   "execution_count": null,
   "id": "5d063946",
   "metadata": {},
   "outputs": [],
   "source": []
  }
 ],
 "metadata": {
  "kernelspec": {
   "display_name": "Python [conda env:root] *",
   "language": "python",
   "name": "conda-root-py"
  },
  "language_info": {
   "codemirror_mode": {
    "name": "ipython",
    "version": 3
   },
   "file_extension": ".py",
   "mimetype": "text/x-python",
   "name": "python",
   "nbconvert_exporter": "python",
   "pygments_lexer": "ipython3",
   "version": "3.8.5"
  }
 },
 "nbformat": 4,
 "nbformat_minor": 5
}
