{
 "cells": [
  {
   "cell_type": "code",
   "execution_count": 1,
   "id": "99ed7d84",
   "metadata": {},
   "outputs": [],
   "source": [
    "import pandas as pd\n",
    "import matplotlib.pyplot as plt"
   ]
  },
  {
   "cell_type": "code",
   "execution_count": 2,
   "id": "bce41797",
   "metadata": {},
   "outputs": [],
   "source": [
    "import os, sys\n",
    "path_parent = os.path.dirname(os.getcwd())\n",
    "os.chdir(path_parent)\n",
    "path_parent = os.path.dirname(os.getcwd())\n",
    "sys.path.insert(0, path_parent+'/Telecom-Data-Analysis/scripts')"
   ]
  },
  {
   "cell_type": "code",
   "execution_count": 3,
   "id": "37b59bf7",
   "metadata": {},
   "outputs": [],
   "source": [
    "from EDA import *\n",
    "from data_clean import *"
   ]
  },
  {
   "cell_type": "code",
   "execution_count": 4,
   "id": "eeed9c62",
   "metadata": {},
   "outputs": [],
   "source": [
    "# df_iterative = pd.read_pickle('data/scaled_df_iterative.pkl')\n",
    "df = pd.read_pickle('data/data_in_Dataframe.pkl') \n",
    "df_median = pd.read_pickle('data/scaled_df_median.pkl') \n",
    "df_knn = pd.read_pickle('data/scaled_df_knn.pkl') \n",
    "df_iterative = pd.read_pickle('data/scaled_df_iterative.pkl') \n"
   ]
  },
  {
   "cell_type": "code",
   "execution_count": null,
   "id": "9c84e413",
   "metadata": {},
   "outputs": [],
   "source": []
  },
  {
   "cell_type": "code",
   "execution_count": 5,
   "id": "e28df0b0",
   "metadata": {
    "scrolled": false
   },
   "outputs": [
    {
     "data": {
      "text/html": [
       "<div>\n",
       "<style scoped>\n",
       "    .dataframe tbody tr th:only-of-type {\n",
       "        vertical-align: middle;\n",
       "    }\n",
       "\n",
       "    .dataframe tbody tr th {\n",
       "        vertical-align: top;\n",
       "    }\n",
       "\n",
       "    .dataframe thead th {\n",
       "        text-align: right;\n",
       "    }\n",
       "</style>\n",
       "<table border=\"1\" class=\"dataframe\">\n",
       "  <thead>\n",
       "    <tr style=\"text-align: right;\">\n",
       "      <th></th>\n",
       "      <th>Bearer Id</th>\n",
       "      <th>Start ms</th>\n",
       "      <th>End ms</th>\n",
       "      <th>Dur. (ms)</th>\n",
       "      <th>IMSI</th>\n",
       "      <th>MSISDN/Number</th>\n",
       "      <th>IMEI</th>\n",
       "      <th>Avg RTT DL (ms)</th>\n",
       "      <th>Avg RTT UL (ms)</th>\n",
       "      <th>Avg Bearer TP DL (kbps)</th>\n",
       "      <th>...</th>\n",
       "      <th>Netflix UL (Bytes)</th>\n",
       "      <th>Gaming DL (Bytes)</th>\n",
       "      <th>Gaming UL (Bytes)</th>\n",
       "      <th>Other DL (Bytes)</th>\n",
       "      <th>Other UL (Bytes)</th>\n",
       "      <th>Total UL (Bytes)</th>\n",
       "      <th>Total DL (Bytes)</th>\n",
       "      <th>Last Location Name_encoded</th>\n",
       "      <th>Handset Manufacturer_encoded</th>\n",
       "      <th>Handset Type_encoded</th>\n",
       "    </tr>\n",
       "  </thead>\n",
       "  <tbody>\n",
       "    <tr>\n",
       "      <th>0</th>\n",
       "      <td>0.99</td>\n",
       "      <td>0.77</td>\n",
       "      <td>0.66</td>\n",
       "      <td>0.98</td>\n",
       "      <td>0.41</td>\n",
       "      <td>0.00</td>\n",
       "      <td>0.36</td>\n",
       "      <td>0.00</td>\n",
       "      <td>0.00</td>\n",
       "      <td>0.00</td>\n",
       "      <td>...</td>\n",
       "      <td>0.44</td>\n",
       "      <td>0.33</td>\n",
       "      <td>0.87</td>\n",
       "      <td>0.20</td>\n",
       "      <td>0.53</td>\n",
       "      <td>0.45</td>\n",
       "      <td>0.34</td>\n",
       "      <td>0.02</td>\n",
       "      <td>0.69</td>\n",
       "      <td>0.19</td>\n",
       "    </tr>\n",
       "    <tr>\n",
       "      <th>1</th>\n",
       "      <td>0.99</td>\n",
       "      <td>0.24</td>\n",
       "      <td>0.61</td>\n",
       "      <td>0.73</td>\n",
       "      <td>0.41</td>\n",
       "      <td>0.00</td>\n",
       "      <td>0.36</td>\n",
       "      <td>0.00</td>\n",
       "      <td>0.00</td>\n",
       "      <td>0.00</td>\n",
       "      <td>...</td>\n",
       "      <td>0.78</td>\n",
       "      <td>0.72</td>\n",
       "      <td>0.07</td>\n",
       "      <td>0.62</td>\n",
       "      <td>0.91</td>\n",
       "      <td>0.67</td>\n",
       "      <td>0.72</td>\n",
       "      <td>0.01</td>\n",
       "      <td>0.69</td>\n",
       "      <td>0.19</td>\n",
       "    </tr>\n",
       "    <tr>\n",
       "      <th>2</th>\n",
       "      <td>0.99</td>\n",
       "      <td>0.00</td>\n",
       "      <td>0.65</td>\n",
       "      <td>0.73</td>\n",
       "      <td>0.41</td>\n",
       "      <td>0.00</td>\n",
       "      <td>0.35</td>\n",
       "      <td>0.00</td>\n",
       "      <td>0.00</td>\n",
       "      <td>0.00</td>\n",
       "      <td>...</td>\n",
       "      <td>0.28</td>\n",
       "      <td>0.27</td>\n",
       "      <td>0.02</td>\n",
       "      <td>0.49</td>\n",
       "      <td>0.25</td>\n",
       "      <td>0.33</td>\n",
       "      <td>0.30</td>\n",
       "      <td>0.01</td>\n",
       "      <td>0.69</td>\n",
       "      <td>0.13</td>\n",
       "    </tr>\n",
       "    <tr>\n",
       "      <th>3</th>\n",
       "      <td>0.99</td>\n",
       "      <td>0.49</td>\n",
       "      <td>0.17</td>\n",
       "      <td>0.71</td>\n",
       "      <td>0.41</td>\n",
       "      <td>0.00</td>\n",
       "      <td>0.35</td>\n",
       "      <td>0.00</td>\n",
       "      <td>0.00</td>\n",
       "      <td>0.00</td>\n",
       "      <td>...</td>\n",
       "      <td>0.05</td>\n",
       "      <td>0.95</td>\n",
       "      <td>0.66</td>\n",
       "      <td>0.89</td>\n",
       "      <td>0.77</td>\n",
       "      <td>0.54</td>\n",
       "      <td>0.94</td>\n",
       "      <td>0.01</td>\n",
       "      <td>0.15</td>\n",
       "      <td>0.45</td>\n",
       "    </tr>\n",
       "    <tr>\n",
       "      <th>4</th>\n",
       "      <td>0.99</td>\n",
       "      <td>0.57</td>\n",
       "      <td>0.95</td>\n",
       "      <td>0.58</td>\n",
       "      <td>0.41</td>\n",
       "      <td>0.00</td>\n",
       "      <td>0.35</td>\n",
       "      <td>0.00</td>\n",
       "      <td>0.00</td>\n",
       "      <td>0.00</td>\n",
       "      <td>...</td>\n",
       "      <td>0.02</td>\n",
       "      <td>0.63</td>\n",
       "      <td>0.21</td>\n",
       "      <td>0.65</td>\n",
       "      <td>0.84</td>\n",
       "      <td>0.47</td>\n",
       "      <td>0.63</td>\n",
       "      <td>0.00</td>\n",
       "      <td>0.69</td>\n",
       "      <td>0.03</td>\n",
       "    </tr>\n",
       "    <tr>\n",
       "      <th>...</th>\n",
       "      <td>...</td>\n",
       "      <td>...</td>\n",
       "      <td>...</td>\n",
       "      <td>...</td>\n",
       "      <td>...</td>\n",
       "      <td>...</td>\n",
       "      <td>...</td>\n",
       "      <td>...</td>\n",
       "      <td>...</td>\n",
       "      <td>...</td>\n",
       "      <td>...</td>\n",
       "      <td>...</td>\n",
       "      <td>...</td>\n",
       "      <td>...</td>\n",
       "      <td>...</td>\n",
       "      <td>...</td>\n",
       "      <td>...</td>\n",
       "      <td>...</td>\n",
       "      <td>...</td>\n",
       "      <td>...</td>\n",
       "      <td>...</td>\n",
       "    </tr>\n",
       "    <tr>\n",
       "      <th>149996</th>\n",
       "      <td>0.06</td>\n",
       "      <td>0.45</td>\n",
       "      <td>0.21</td>\n",
       "      <td>0.04</td>\n",
       "      <td>0.41</td>\n",
       "      <td>0.00</td>\n",
       "      <td>0.36</td>\n",
       "      <td>0.00</td>\n",
       "      <td>0.00</td>\n",
       "      <td>0.00</td>\n",
       "      <td>...</td>\n",
       "      <td>0.89</td>\n",
       "      <td>0.62</td>\n",
       "      <td>0.56</td>\n",
       "      <td>0.00</td>\n",
       "      <td>0.81</td>\n",
       "      <td>0.73</td>\n",
       "      <td>0.63</td>\n",
       "      <td>0.00</td>\n",
       "      <td>1.00</td>\n",
       "      <td>0.15</td>\n",
       "    </tr>\n",
       "    <tr>\n",
       "      <th>149997</th>\n",
       "      <td>0.07</td>\n",
       "      <td>0.48</td>\n",
       "      <td>0.19</td>\n",
       "      <td>0.05</td>\n",
       "      <td>0.41</td>\n",
       "      <td>0.00</td>\n",
       "      <td>0.36</td>\n",
       "      <td>0.00</td>\n",
       "      <td>0.00</td>\n",
       "      <td>0.00</td>\n",
       "      <td>...</td>\n",
       "      <td>0.97</td>\n",
       "      <td>0.74</td>\n",
       "      <td>0.29</td>\n",
       "      <td>0.84</td>\n",
       "      <td>0.15</td>\n",
       "      <td>0.48</td>\n",
       "      <td>0.74</td>\n",
       "      <td>0.00</td>\n",
       "      <td>1.00</td>\n",
       "      <td>0.26</td>\n",
       "    </tr>\n",
       "    <tr>\n",
       "      <th>149998</th>\n",
       "      <td>0.99</td>\n",
       "      <td>0.28</td>\n",
       "      <td>0.81</td>\n",
       "      <td>0.05</td>\n",
       "      <td>0.41</td>\n",
       "      <td>0.00</td>\n",
       "      <td>0.36</td>\n",
       "      <td>0.00</td>\n",
       "      <td>0.00</td>\n",
       "      <td>0.00</td>\n",
       "      <td>...</td>\n",
       "      <td>0.23</td>\n",
       "      <td>0.66</td>\n",
       "      <td>0.81</td>\n",
       "      <td>0.14</td>\n",
       "      <td>0.68</td>\n",
       "      <td>0.42</td>\n",
       "      <td>0.65</td>\n",
       "      <td>0.00</td>\n",
       "      <td>1.00</td>\n",
       "      <td>0.07</td>\n",
       "    </tr>\n",
       "    <tr>\n",
       "      <th>149999</th>\n",
       "      <td>0.99</td>\n",
       "      <td>0.70</td>\n",
       "      <td>0.33</td>\n",
       "      <td>0.05</td>\n",
       "      <td>0.41</td>\n",
       "      <td>0.00</td>\n",
       "      <td>0.87</td>\n",
       "      <td>0.00</td>\n",
       "      <td>0.00</td>\n",
       "      <td>0.00</td>\n",
       "      <td>...</td>\n",
       "      <td>0.60</td>\n",
       "      <td>0.42</td>\n",
       "      <td>0.15</td>\n",
       "      <td>0.97</td>\n",
       "      <td>0.08</td>\n",
       "      <td>0.35</td>\n",
       "      <td>0.41</td>\n",
       "      <td>0.00</td>\n",
       "      <td>0.58</td>\n",
       "      <td>0.04</td>\n",
       "    </tr>\n",
       "    <tr>\n",
       "      <th>150000</th>\n",
       "      <td>0.07</td>\n",
       "      <td>0.50</td>\n",
       "      <td>0.50</td>\n",
       "      <td>0.04</td>\n",
       "      <td>0.41</td>\n",
       "      <td>0.00</td>\n",
       "      <td>0.36</td>\n",
       "      <td>0.00</td>\n",
       "      <td>0.00</td>\n",
       "      <td>0.00</td>\n",
       "      <td>...</td>\n",
       "      <td>0.50</td>\n",
       "      <td>0.50</td>\n",
       "      <td>0.50</td>\n",
       "      <td>0.50</td>\n",
       "      <td>0.50</td>\n",
       "      <td>0.51</td>\n",
       "      <td>0.50</td>\n",
       "      <td>1.00</td>\n",
       "      <td>0.01</td>\n",
       "      <td>0.03</td>\n",
       "    </tr>\n",
       "  </tbody>\n",
       "</table>\n",
       "<p>150001 rows × 53 columns</p>\n",
       "</div>"
      ],
      "text/plain": [
       "        Bearer Id  Start ms  End ms  Dur. (ms)  IMSI  MSISDN/Number  IMEI  \\\n",
       "0            0.99      0.77    0.66       0.98  0.41           0.00  0.36   \n",
       "1            0.99      0.24    0.61       0.73  0.41           0.00  0.36   \n",
       "2            0.99      0.00    0.65       0.73  0.41           0.00  0.35   \n",
       "3            0.99      0.49    0.17       0.71  0.41           0.00  0.35   \n",
       "4            0.99      0.57    0.95       0.58  0.41           0.00  0.35   \n",
       "...           ...       ...     ...        ...   ...            ...   ...   \n",
       "149996       0.06      0.45    0.21       0.04  0.41           0.00  0.36   \n",
       "149997       0.07      0.48    0.19       0.05  0.41           0.00  0.36   \n",
       "149998       0.99      0.28    0.81       0.05  0.41           0.00  0.36   \n",
       "149999       0.99      0.70    0.33       0.05  0.41           0.00  0.87   \n",
       "150000       0.07      0.50    0.50       0.04  0.41           0.00  0.36   \n",
       "\n",
       "        Avg RTT DL (ms)  Avg RTT UL (ms)  Avg Bearer TP DL (kbps)  ...  \\\n",
       "0                  0.00             0.00                     0.00  ...   \n",
       "1                  0.00             0.00                     0.00  ...   \n",
       "2                  0.00             0.00                     0.00  ...   \n",
       "3                  0.00             0.00                     0.00  ...   \n",
       "4                  0.00             0.00                     0.00  ...   \n",
       "...                 ...              ...                      ...  ...   \n",
       "149996             0.00             0.00                     0.00  ...   \n",
       "149997             0.00             0.00                     0.00  ...   \n",
       "149998             0.00             0.00                     0.00  ...   \n",
       "149999             0.00             0.00                     0.00  ...   \n",
       "150000             0.00             0.00                     0.00  ...   \n",
       "\n",
       "        Netflix UL (Bytes)  Gaming DL (Bytes)  Gaming UL (Bytes)  \\\n",
       "0                     0.44               0.33               0.87   \n",
       "1                     0.78               0.72               0.07   \n",
       "2                     0.28               0.27               0.02   \n",
       "3                     0.05               0.95               0.66   \n",
       "4                     0.02               0.63               0.21   \n",
       "...                    ...                ...                ...   \n",
       "149996                0.89               0.62               0.56   \n",
       "149997                0.97               0.74               0.29   \n",
       "149998                0.23               0.66               0.81   \n",
       "149999                0.60               0.42               0.15   \n",
       "150000                0.50               0.50               0.50   \n",
       "\n",
       "        Other DL (Bytes)  Other UL (Bytes)  Total UL (Bytes)  \\\n",
       "0                   0.20              0.53              0.45   \n",
       "1                   0.62              0.91              0.67   \n",
       "2                   0.49              0.25              0.33   \n",
       "3                   0.89              0.77              0.54   \n",
       "4                   0.65              0.84              0.47   \n",
       "...                  ...               ...               ...   \n",
       "149996              0.00              0.81              0.73   \n",
       "149997              0.84              0.15              0.48   \n",
       "149998              0.14              0.68              0.42   \n",
       "149999              0.97              0.08              0.35   \n",
       "150000              0.50              0.50              0.51   \n",
       "\n",
       "        Total DL (Bytes)  Last Location Name_encoded  \\\n",
       "0                   0.34                        0.02   \n",
       "1                   0.72                        0.01   \n",
       "2                   0.30                        0.01   \n",
       "3                   0.94                        0.01   \n",
       "4                   0.63                        0.00   \n",
       "...                  ...                         ...   \n",
       "149996              0.63                        0.00   \n",
       "149997              0.74                        0.00   \n",
       "149998              0.65                        0.00   \n",
       "149999              0.41                        0.00   \n",
       "150000              0.50                        1.00   \n",
       "\n",
       "        Handset Manufacturer_encoded  Handset Type_encoded  \n",
       "0                               0.69                  0.19  \n",
       "1                               0.69                  0.19  \n",
       "2                               0.69                  0.13  \n",
       "3                               0.15                  0.45  \n",
       "4                               0.69                  0.03  \n",
       "...                              ...                   ...  \n",
       "149996                          1.00                  0.15  \n",
       "149997                          1.00                  0.26  \n",
       "149998                          1.00                  0.07  \n",
       "149999                          0.58                  0.04  \n",
       "150000                          0.01                  0.03  \n",
       "\n",
       "[150001 rows x 53 columns]"
      ]
     },
     "execution_count": 5,
     "metadata": {},
     "output_type": "execute_result"
    }
   ],
   "source": [
    "# from now on until model development I will use the median imputed dataset\n",
    "df_median"
   ]
  },
  {
   "cell_type": "code",
   "execution_count": 6,
   "id": "317d5acb",
   "metadata": {},
   "outputs": [
    {
     "data": {
      "text/plain": [
       "Index(['Bearer Id', 'Start ms', 'End ms', 'Dur. (ms)', 'IMSI', 'MSISDN/Number',\n",
       "       'IMEI', 'Avg RTT DL (ms)', 'Avg RTT UL (ms)', 'Avg Bearer TP DL (kbps)',\n",
       "       'Avg Bearer TP UL (kbps)', 'TCP DL Retrans. Vol (Bytes)',\n",
       "       'TCP UL Retrans. Vol (Bytes)', 'DL TP < 50 Kbps (%)',\n",
       "       '50 Kbps < DL TP < 250 Kbps (%)', '250 Kbps < DL TP < 1 Mbps (%)',\n",
       "       'DL TP > 1 Mbps (%)', 'UL TP < 10 Kbps (%)',\n",
       "       '10 Kbps < UL TP < 50 Kbps (%)', '50 Kbps < UL TP < 300 Kbps (%)',\n",
       "       'UL TP > 300 Kbps (%)', 'HTTP DL (Bytes)', 'HTTP UL (Bytes)',\n",
       "       'Activity Duration DL (ms)', 'Activity Duration UL (ms)', 'Dur. (ms).1',\n",
       "       'Nb of sec with 125000B < Vol DL',\n",
       "       'Nb of sec with 1250B < Vol UL < 6250B',\n",
       "       'Nb of sec with 31250B < Vol DL < 125000B',\n",
       "       'Nb of sec with 37500B < Vol UL',\n",
       "       'Nb of sec with 6250B < Vol DL < 31250B',\n",
       "       'Nb of sec with 6250B < Vol UL < 37500B',\n",
       "       'Nb of sec with Vol DL < 6250B', 'Nb of sec with Vol UL < 1250B',\n",
       "       'Social Media DL (Bytes)', 'Social Media UL (Bytes)',\n",
       "       'Google DL (Bytes)', 'Google UL (Bytes)', 'Email DL (Bytes)',\n",
       "       'Email UL (Bytes)', 'Youtube DL (Bytes)', 'Youtube UL (Bytes)',\n",
       "       'Netflix DL (Bytes)', 'Netflix UL (Bytes)', 'Gaming DL (Bytes)',\n",
       "       'Gaming UL (Bytes)', 'Other DL (Bytes)', 'Other UL (Bytes)',\n",
       "       'Total UL (Bytes)', 'Total DL (Bytes)', 'Last Location Name_encoded',\n",
       "       'Handset Manufacturer_encoded', 'Handset Type_encoded'],\n",
       "      dtype='object')"
      ]
     },
     "execution_count": 6,
     "metadata": {},
     "output_type": "execute_result"
    }
   ],
   "source": [
    "df_median.columns"
   ]
  },
  {
   "cell_type": "markdown",
   "id": "79631f43",
   "metadata": {},
   "source": [
    "# Univariate analysis"
   ]
  },
  {
   "cell_type": "code",
   "execution_count": 7,
   "id": "20bead8c",
   "metadata": {},
   "outputs": [
    {
     "data": {
      "text/plain": [
       "['Social Media DL (Bytes)',\n",
       " 'Social Media UL (Bytes)',\n",
       " 'Google DL (Bytes)',\n",
       " 'Google UL (Bytes)',\n",
       " 'Email DL (Bytes)',\n",
       " 'Email UL (Bytes)',\n",
       " 'Youtube DL (Bytes)',\n",
       " 'Youtube UL (Bytes)',\n",
       " 'Netflix DL (Bytes)',\n",
       " 'Netflix UL (Bytes)',\n",
       " 'Gaming DL (Bytes)',\n",
       " 'Gaming UL (Bytes)',\n",
       " 'Other DL (Bytes)',\n",
       " 'Other UL (Bytes)']"
      ]
     },
     "execution_count": 7,
     "metadata": {},
     "output_type": "execute_result"
    }
   ],
   "source": [
    "complete_cols = [x for x in df.columns if df[x].isnull().sum()==0]\n",
    "complete_cols"
   ]
  },
  {
   "cell_type": "code",
   "execution_count": 8,
   "id": "b26898eb",
   "metadata": {},
   "outputs": [
    {
     "data": {
      "text/plain": [
       "Huawei B528S-23A                19752\n",
       "Apple iPhone 6S (A1688)          9419\n",
       "Apple iPhone 6 (A1586)           9023\n",
       "undefined                        8987\n",
       "Apple iPhone 7 (A1778)           6326\n",
       "Apple iPhone Se (A1723)          5187\n",
       "Apple iPhone 8 (A1905)           4993\n",
       "Apple iPhone Xr (A2105)          4568\n",
       "Samsung Galaxy S8 (Sm-G950F)     4520\n",
       "Apple iPhone X (A1901)           3813\n",
       "Name: Handset Type, dtype: int64"
      ]
     },
     "execution_count": 8,
     "metadata": {},
     "output_type": "execute_result"
    }
   ],
   "source": [
    "# Top 10 handsets used by customers\n",
    "df['Handset Type'].value_counts()[:10]"
   ]
  },
  {
   "cell_type": "code",
   "execution_count": 9,
   "id": "bde14296",
   "metadata": {},
   "outputs": [
    {
     "data": {
      "text/plain": [
       "Apple      59565\n",
       "Samsung    40839\n",
       "Huawei     34423\n",
       "Name: Handset Manufacturer, dtype: int64"
      ]
     },
     "execution_count": 9,
     "metadata": {},
     "output_type": "execute_result"
    }
   ],
   "source": [
    "# Top 3 handset manufacturers\n",
    "df['Handset Manufacturer'].value_counts()[:3]\n"
   ]
  },
  {
   "cell_type": "code",
   "execution_count": 10,
   "id": "1f34e98a",
   "metadata": {},
   "outputs": [
    {
     "data": {
      "text/plain": [
       "Index(['Apple', 'Samsung', 'Huawei'], dtype='object')"
      ]
     },
     "execution_count": 10,
     "metadata": {},
     "output_type": "execute_result"
    }
   ],
   "source": [
    "df['Handset Manufacturer'].value_counts().index[:3]\n"
   ]
  },
  {
   "cell_type": "code",
   "execution_count": 11,
   "id": "665bd55b",
   "metadata": {},
   "outputs": [
    {
     "name": "stdout",
     "output_type": "stream",
     "text": [
      "Top 5 Handsets per top 3 Manufacturers is: \n",
      "\n",
      "Top 1 Manufacturer: Apple\n",
      " And top products are :\n",
      "\t\t1.Apple iPhone 6S (A1688):  15.813%\n",
      "\t\t2.Apple iPhone 6 (A1586):  15.148%\n",
      "\t\t3.Apple iPhone 7 (A1778):  10.62%\n",
      "\t\t4.Apple iPhone Se (A1723):  8.708%\n",
      "\t\t5.Apple iPhone 8 (A1905):  8.382%\n",
      "Top 2 Manufacturer: Samsung\n",
      " And top products are :\n",
      "\t\t1.Samsung Galaxy S8 (Sm-G950F):  11.068%\n",
      "\t\t2.Samsung Galaxy A5 Sm-A520F:  9.119%\n",
      "\t\t3.Samsung Galaxy J5 (Sm-J530):  9.05%\n",
      "\t\t4.Samsung Galaxy J3 (Sm-J330):  8.531%\n",
      "\t\t5.Samsung Galaxy S7 (Sm-G930X):  7.833%\n",
      "Top 3 Manufacturer: Huawei\n",
      " And top products are :\n",
      "\t\t1.Huawei B528S-23A:  57.38%\n",
      "\t\t2.Huawei E5180:  6.04%\n",
      "\t\t3.Huawei P20 Lite Huawei Nova 3E:  5.871%\n",
      "\t\t4.Huawei P20:  4.299%\n",
      "\t\t5.Huawei Y6 2018:  2.896%\n"
     ]
    }
   ],
   "source": [
    "top_handsets_per_top_manufactueres(df=df,manufacturers=3,handsets=5)"
   ]
  },
  {
   "cell_type": "code",
   "execution_count": 12,
   "id": "d221858e",
   "metadata": {},
   "outputs": [
    {
     "data": {
      "text/html": [
       "<div>\n",
       "<style scoped>\n",
       "    .dataframe tbody tr th:only-of-type {\n",
       "        vertical-align: middle;\n",
       "    }\n",
       "\n",
       "    .dataframe tbody tr th {\n",
       "        vertical-align: top;\n",
       "    }\n",
       "\n",
       "    .dataframe thead th {\n",
       "        text-align: right;\n",
       "    }\n",
       "</style>\n",
       "<table border=\"1\" class=\"dataframe\">\n",
       "  <thead>\n",
       "    <tr style=\"text-align: right;\">\n",
       "      <th></th>\n",
       "      <th>Bearer Id</th>\n",
       "      <th>Start ms</th>\n",
       "      <th>End ms</th>\n",
       "      <th>Dur. (ms)</th>\n",
       "      <th>IMSI</th>\n",
       "      <th>MSISDN/Number</th>\n",
       "      <th>IMEI</th>\n",
       "      <th>Avg RTT DL (ms)</th>\n",
       "      <th>Avg RTT UL (ms)</th>\n",
       "      <th>Avg Bearer TP DL (kbps)</th>\n",
       "      <th>...</th>\n",
       "      <th>Netflix UL (Bytes)</th>\n",
       "      <th>Gaming DL (Bytes)</th>\n",
       "      <th>Gaming UL (Bytes)</th>\n",
       "      <th>Other DL (Bytes)</th>\n",
       "      <th>Other UL (Bytes)</th>\n",
       "      <th>Total UL (Bytes)</th>\n",
       "      <th>Total DL (Bytes)</th>\n",
       "      <th>Last Location Name_encoded</th>\n",
       "      <th>Handset Manufacturer_encoded</th>\n",
       "      <th>Handset Type_encoded</th>\n",
       "    </tr>\n",
       "  </thead>\n",
       "  <tbody>\n",
       "    <tr>\n",
       "      <th>count</th>\n",
       "      <td>150,001.00</td>\n",
       "      <td>150,001.00</td>\n",
       "      <td>150,001.00</td>\n",
       "      <td>150,001.00</td>\n",
       "      <td>150,001.00</td>\n",
       "      <td>150,001.00</td>\n",
       "      <td>150,001.00</td>\n",
       "      <td>150,001.00</td>\n",
       "      <td>150,001.00</td>\n",
       "      <td>150,001.00</td>\n",
       "      <td>...</td>\n",
       "      <td>150,001.00</td>\n",
       "      <td>150,001.00</td>\n",
       "      <td>150,001.00</td>\n",
       "      <td>150,001.00</td>\n",
       "      <td>150,001.00</td>\n",
       "      <td>150,001.00</td>\n",
       "      <td>150,001.00</td>\n",
       "      <td>150,001.00</td>\n",
       "      <td>150,001.00</td>\n",
       "      <td>150,001.00</td>\n",
       "    </tr>\n",
       "    <tr>\n",
       "      <th>mean</th>\n",
       "      <td>0.51</td>\n",
       "      <td>0.50</td>\n",
       "      <td>0.50</td>\n",
       "      <td>0.05</td>\n",
       "      <td>0.41</td>\n",
       "      <td>0.00</td>\n",
       "      <td>0.49</td>\n",
       "      <td>0.00</td>\n",
       "      <td>0.00</td>\n",
       "      <td>0.04</td>\n",
       "      <td>...</td>\n",
       "      <td>0.50</td>\n",
       "      <td>0.50</td>\n",
       "      <td>0.50</td>\n",
       "      <td>0.50</td>\n",
       "      <td>0.50</td>\n",
       "      <td>0.51</td>\n",
       "      <td>0.50</td>\n",
       "      <td>0.01</td>\n",
       "      <td>0.73</td>\n",
       "      <td>0.30</td>\n",
       "    </tr>\n",
       "    <tr>\n",
       "      <th>std</th>\n",
       "      <td>0.46</td>\n",
       "      <td>0.29</td>\n",
       "      <td>0.29</td>\n",
       "      <td>0.04</td>\n",
       "      <td>0.00</td>\n",
       "      <td>0.00</td>\n",
       "      <td>0.23</td>\n",
       "      <td>0.01</td>\n",
       "      <td>0.01</td>\n",
       "      <td>0.06</td>\n",
       "      <td>...</td>\n",
       "      <td>0.29</td>\n",
       "      <td>0.29</td>\n",
       "      <td>0.29</td>\n",
       "      <td>0.29</td>\n",
       "      <td>0.29</td>\n",
       "      <td>0.15</td>\n",
       "      <td>0.27</td>\n",
       "      <td>0.09</td>\n",
       "      <td>0.28</td>\n",
       "      <td>0.31</td>\n",
       "    </tr>\n",
       "    <tr>\n",
       "      <th>min</th>\n",
       "      <td>0.00</td>\n",
       "      <td>0.00</td>\n",
       "      <td>0.00</td>\n",
       "      <td>0.00</td>\n",
       "      <td>0.00</td>\n",
       "      <td>0.00</td>\n",
       "      <td>0.00</td>\n",
       "      <td>0.00</td>\n",
       "      <td>0.00</td>\n",
       "      <td>0.00</td>\n",
       "      <td>...</td>\n",
       "      <td>0.00</td>\n",
       "      <td>0.00</td>\n",
       "      <td>0.00</td>\n",
       "      <td>0.00</td>\n",
       "      <td>0.00</td>\n",
       "      <td>0.00</td>\n",
       "      <td>0.00</td>\n",
       "      <td>0.00</td>\n",
       "      <td>0.00</td>\n",
       "      <td>0.00</td>\n",
       "    </tr>\n",
       "    <tr>\n",
       "      <th>25%</th>\n",
       "      <td>0.07</td>\n",
       "      <td>0.25</td>\n",
       "      <td>0.25</td>\n",
       "      <td>0.03</td>\n",
       "      <td>0.41</td>\n",
       "      <td>0.00</td>\n",
       "      <td>0.36</td>\n",
       "      <td>0.00</td>\n",
       "      <td>0.00</td>\n",
       "      <td>0.00</td>\n",
       "      <td>...</td>\n",
       "      <td>0.25</td>\n",
       "      <td>0.25</td>\n",
       "      <td>0.25</td>\n",
       "      <td>0.25</td>\n",
       "      <td>0.25</td>\n",
       "      <td>0.40</td>\n",
       "      <td>0.26</td>\n",
       "      <td>0.00</td>\n",
       "      <td>0.58</td>\n",
       "      <td>0.07</td>\n",
       "    </tr>\n",
       "    <tr>\n",
       "      <th>50%</th>\n",
       "      <td>0.07</td>\n",
       "      <td>0.50</td>\n",
       "      <td>0.50</td>\n",
       "      <td>0.04</td>\n",
       "      <td>0.41</td>\n",
       "      <td>0.00</td>\n",
       "      <td>0.36</td>\n",
       "      <td>0.00</td>\n",
       "      <td>0.00</td>\n",
       "      <td>0.00</td>\n",
       "      <td>...</td>\n",
       "      <td>0.50</td>\n",
       "      <td>0.50</td>\n",
       "      <td>0.50</td>\n",
       "      <td>0.50</td>\n",
       "      <td>0.50</td>\n",
       "      <td>0.51</td>\n",
       "      <td>0.50</td>\n",
       "      <td>0.00</td>\n",
       "      <td>0.69</td>\n",
       "      <td>0.19</td>\n",
       "    </tr>\n",
       "    <tr>\n",
       "      <th>75%</th>\n",
       "      <td>0.98</td>\n",
       "      <td>0.75</td>\n",
       "      <td>0.75</td>\n",
       "      <td>0.07</td>\n",
       "      <td>0.41</td>\n",
       "      <td>0.00</td>\n",
       "      <td>0.87</td>\n",
       "      <td>0.00</td>\n",
       "      <td>0.00</td>\n",
       "      <td>0.05</td>\n",
       "      <td>...</td>\n",
       "      <td>0.75</td>\n",
       "      <td>0.75</td>\n",
       "      <td>0.75</td>\n",
       "      <td>0.75</td>\n",
       "      <td>0.75</td>\n",
       "      <td>0.61</td>\n",
       "      <td>0.74</td>\n",
       "      <td>0.01</td>\n",
       "      <td>1.00</td>\n",
       "      <td>0.46</td>\n",
       "    </tr>\n",
       "    <tr>\n",
       "      <th>max</th>\n",
       "      <td>1.00</td>\n",
       "      <td>1.00</td>\n",
       "      <td>1.00</td>\n",
       "      <td>1.00</td>\n",
       "      <td>1.00</td>\n",
       "      <td>1.00</td>\n",
       "      <td>1.00</td>\n",
       "      <td>1.00</td>\n",
       "      <td>1.00</td>\n",
       "      <td>1.00</td>\n",
       "      <td>...</td>\n",
       "      <td>1.00</td>\n",
       "      <td>1.00</td>\n",
       "      <td>1.00</td>\n",
       "      <td>1.00</td>\n",
       "      <td>1.00</td>\n",
       "      <td>1.00</td>\n",
       "      <td>1.00</td>\n",
       "      <td>1.00</td>\n",
       "      <td>1.00</td>\n",
       "      <td>1.00</td>\n",
       "    </tr>\n",
       "  </tbody>\n",
       "</table>\n",
       "<p>8 rows × 53 columns</p>\n",
       "</div>"
      ],
      "text/plain": [
       "       Bearer Id   Start ms     End ms  Dur. (ms)       IMSI  MSISDN/Number  \\\n",
       "count 150,001.00 150,001.00 150,001.00 150,001.00 150,001.00     150,001.00   \n",
       "mean        0.51       0.50       0.50       0.05       0.41           0.00   \n",
       "std         0.46       0.29       0.29       0.04       0.00           0.00   \n",
       "min         0.00       0.00       0.00       0.00       0.00           0.00   \n",
       "25%         0.07       0.25       0.25       0.03       0.41           0.00   \n",
       "50%         0.07       0.50       0.50       0.04       0.41           0.00   \n",
       "75%         0.98       0.75       0.75       0.07       0.41           0.00   \n",
       "max         1.00       1.00       1.00       1.00       1.00           1.00   \n",
       "\n",
       "            IMEI  Avg RTT DL (ms)  Avg RTT UL (ms)  Avg Bearer TP DL (kbps)  \\\n",
       "count 150,001.00       150,001.00       150,001.00               150,001.00   \n",
       "mean        0.49             0.00             0.00                     0.04   \n",
       "std         0.23             0.01             0.01                     0.06   \n",
       "min         0.00             0.00             0.00                     0.00   \n",
       "25%         0.36             0.00             0.00                     0.00   \n",
       "50%         0.36             0.00             0.00                     0.00   \n",
       "75%         0.87             0.00             0.00                     0.05   \n",
       "max         1.00             1.00             1.00                     1.00   \n",
       "\n",
       "       ...  Netflix UL (Bytes)  Gaming DL (Bytes)  Gaming UL (Bytes)  \\\n",
       "count  ...          150,001.00         150,001.00         150,001.00   \n",
       "mean   ...                0.50               0.50               0.50   \n",
       "std    ...                0.29               0.29               0.29   \n",
       "min    ...                0.00               0.00               0.00   \n",
       "25%    ...                0.25               0.25               0.25   \n",
       "50%    ...                0.50               0.50               0.50   \n",
       "75%    ...                0.75               0.75               0.75   \n",
       "max    ...                1.00               1.00               1.00   \n",
       "\n",
       "       Other DL (Bytes)  Other UL (Bytes)  Total UL (Bytes)  Total DL (Bytes)  \\\n",
       "count        150,001.00        150,001.00        150,001.00        150,001.00   \n",
       "mean               0.50              0.50              0.51              0.50   \n",
       "std                0.29              0.29              0.15              0.27   \n",
       "min                0.00              0.00              0.00              0.00   \n",
       "25%                0.25              0.25              0.40              0.26   \n",
       "50%                0.50              0.50              0.51              0.50   \n",
       "75%                0.75              0.75              0.61              0.74   \n",
       "max                1.00              1.00              1.00              1.00   \n",
       "\n",
       "       Last Location Name_encoded  Handset Manufacturer_encoded  \\\n",
       "count                  150,001.00                    150,001.00   \n",
       "mean                         0.01                          0.73   \n",
       "std                          0.09                          0.28   \n",
       "min                          0.00                          0.00   \n",
       "25%                          0.00                          0.58   \n",
       "50%                          0.00                          0.69   \n",
       "75%                          0.01                          1.00   \n",
       "max                          1.00                          1.00   \n",
       "\n",
       "       Handset Type_encoded  \n",
       "count            150,001.00  \n",
       "mean                   0.30  \n",
       "std                    0.31  \n",
       "min                    0.00  \n",
       "25%                    0.07  \n",
       "50%                    0.19  \n",
       "75%                    0.46  \n",
       "max                    1.00  \n",
       "\n",
       "[8 rows x 53 columns]"
      ]
     },
     "execution_count": 12,
     "metadata": {},
     "output_type": "execute_result"
    }
   ],
   "source": [
    "df_median.describe()"
   ]
  },
  {
   "cell_type": "markdown",
   "id": "c7fbd819",
   "metadata": {},
   "source": [
    "# Outlier Removal "
   ]
  },
  {
   "cell_type": "code",
   "execution_count": 30,
   "id": "5abd2f6d",
   "metadata": {},
   "outputs": [
    {
     "data": {
      "image/png": "[encoded data removed]",
      "text/plain": [
       "<Figure size 864x504 with 1 Axes>"
      ]
     },
     "metadata": {
      "needs_background": "light"
     },
     "output_type": "display_data"
    }
   ],
   "source": [
    "plot_box(df_knn,'Netflix UL (Bytes)','Average RTT with KNN Imputation')"
   ]
  },
  {
   "cell_type": "code",
   "execution_count": 16,
   "id": "77f50b15",
   "metadata": {},
   "outputs": [
    {
     "data": {
      "image/png": "[encoded data removed]",
      "text/plain": [
       "<Figure size 864x504 with 1 Axes>"
      ]
     },
     "metadata": {
      "needs_background": "light"
     },
     "output_type": "display_data"
    }
   ],
   "source": [
    "plot_box(df_median,'Avg RTT DL (ms)','Average RTT with Median Imputation')"
   ]
  },
  {
   "cell_type": "code",
   "execution_count": 18,
   "id": "7f98f594",
   "metadata": {},
   "outputs": [],
   "source": [
    "df_median['Avg RTT DL (ms)'] = fix_outlier(df=df_median,column='Avg RTT DL (ms)')"
   ]
  },
  {
   "cell_type": "code",
   "execution_count": 19,
   "id": "820b8567",
   "metadata": {},
   "outputs": [
    {
     "data": {
      "image/png": "[encoded data removed]",
      "text/plain": [
       "<Figure size 864x504 with 1 Axes>"
      ]
     },
     "metadata": {
      "needs_background": "light"
     },
     "output_type": "display_data"
    }
   ],
   "source": [
    "plot_box(df_median,'Avg RTT DL (ms)','Average RTT with Median Imputation')"
   ]
  },
  {
   "cell_type": "code",
   "execution_count": 26,
   "id": "bac44464",
   "metadata": {},
   "outputs": [
    {
     "data": {
      "image/png": "[encoded data removed]",
      "text/plain": [
       "<Figure size 1008x504 with 1 Axes>"
      ]
     },
     "metadata": {
      "needs_background": "light"
     },
     "output_type": "display_data"
    }
   ],
   "source": [
    "plot_hist(df_median,'Avg RTT UL (ms)','green')"
   ]
  },
  {
   "cell_type": "code",
   "execution_count": 20,
   "id": "f1408214",
   "metadata": {},
   "outputs": [
    {
     "data": {
      "image/png": "[encoded data removed]",
      "text/plain": [
       "<Figure size 864x504 with 1 Axes>"
      ]
     },
     "metadata": {
      "needs_background": "light"
     },
     "output_type": "display_data"
    }
   ],
   "source": [
    "plot_box(df_iterative,'Avg RTT UL (ms)','Average RTT with Iterative Imputation')"
   ]
  },
  {
   "cell_type": "code",
   "execution_count": 15,
   "id": "4b64c591",
   "metadata": {},
   "outputs": [
    {
     "data": {
      "text/plain": [
       "Index(['Bearer Id', 'Start', 'Start ms', 'End', 'End ms', 'Dur. (ms)', 'IMSI',\n",
       "       'MSISDN/Number', 'IMEI', 'Last Location Name', 'Avg RTT DL (ms)',\n",
       "       'Avg RTT UL (ms)', 'Avg Bearer TP DL (kbps)', 'Avg Bearer TP UL (kbps)',\n",
       "       'TCP DL Retrans. Vol (Bytes)', 'TCP UL Retrans. Vol (Bytes)',\n",
       "       'DL TP < 50 Kbps (%)', '50 Kbps < DL TP < 250 Kbps (%)',\n",
       "       '250 Kbps < DL TP < 1 Mbps (%)', 'DL TP > 1 Mbps (%)',\n",
       "       'UL TP < 10 Kbps (%)', '10 Kbps < UL TP < 50 Kbps (%)',\n",
       "       '50 Kbps < UL TP < 300 Kbps (%)', 'UL TP > 300 Kbps (%)',\n",
       "       'HTTP DL (Bytes)', 'HTTP UL (Bytes)', 'Activity Duration DL (ms)',\n",
       "       'Activity Duration UL (ms)', 'Dur. (ms).1', 'Handset Manufacturer',\n",
       "       'Handset Type', 'Nb of sec with 125000B < Vol DL',\n",
       "       'Nb of sec with 1250B < Vol UL < 6250B',\n",
       "       'Nb of sec with 31250B < Vol DL < 125000B',\n",
       "       'Nb of sec with 37500B < Vol UL',\n",
       "       'Nb of sec with 6250B < Vol DL < 31250B',\n",
       "       'Nb of sec with 6250B < Vol UL < 37500B',\n",
       "       'Nb of sec with Vol DL < 6250B', 'Nb of sec with Vol UL < 1250B',\n",
       "       'Social Media DL (Bytes)', 'Social Media UL (Bytes)',\n",
       "       'Google DL (Bytes)', 'Google UL (Bytes)', 'Email DL (Bytes)',\n",
       "       'Email UL (Bytes)', 'Youtube DL (Bytes)', 'Youtube UL (Bytes)',\n",
       "       'Netflix DL (Bytes)', 'Netflix UL (Bytes)', 'Gaming DL (Bytes)',\n",
       "       'Gaming UL (Bytes)', 'Other DL (Bytes)', 'Other UL (Bytes)',\n",
       "       'Total UL (Bytes)', 'Total DL (Bytes)'],\n",
       "      dtype='object')"
      ]
     },
     "execution_count": 15,
     "metadata": {},
     "output_type": "execute_result"
    }
   ],
   "source": [
    "df.columns"
   ]
  },
  {
   "cell_type": "code",
   "execution_count": 16,
   "id": "3419cbeb",
   "metadata": {},
   "outputs": [
    {
     "name": "stderr",
     "output_type": "stream",
     "text": [
      "/home/owon/anaconda3/lib/python3.8/site-packages/seaborn/_decorators.py:36: FutureWarning: Pass the following variable as a keyword arg: x. From version 0.12, the only valid positional argument will be `data`, and passing other arguments without an explicit keyword will result in an error or misinterpretation.\n",
      "  warnings.warn(\n"
     ]
    },
    {
     "data": {
      "text/plain": [
       "<AxesSubplot:xlabel='Total UL (Bytes)'>"
      ]
     },
     "execution_count": 16,
     "metadata": {},
     "output_type": "execute_result"
    },
    {
     "data": {
      "image/png": "[encoded data removed]",
      "text/plain": [
       "<Figure size 432x288 with 1 Axes>"
      ]
     },
     "metadata": {
      "needs_background": "light"
     },
     "output_type": "display_data"
    }
   ],
   "source": [
    "#box plot\n",
    "sns.boxplot(df['Total UL (Bytes)'])\n"
   ]
  },
  {
   "cell_type": "code",
   "execution_count": null,
   "id": "95290cdd",
   "metadata": {},
   "outputs": [],
   "source": []
  },
  {
   "cell_type": "code",
   "execution_count": null,
   "id": "adada862",
   "metadata": {},
   "outputs": [],
   "source": []
  },
  {
   "cell_type": "code",
   "execution_count": null,
   "id": "9131d6e9",
   "metadata": {},
   "outputs": [],
   "source": []
  },
  {
   "cell_type": "code",
   "execution_count": 12,
   "id": "e6f4aac6",
   "metadata": {},
   "outputs": [
    {
     "data": {
      "text/plain": [
       "Index(['Bearer Id', 'Start ms', 'End ms', 'Dur. (ms)', 'IMSI', 'MSISDN/Number',\n",
       "       'IMEI', 'Avg RTT DL (ms)', 'Avg RTT UL (ms)', 'Avg Bearer TP DL (kbps)',\n",
       "       'Avg Bearer TP UL (kbps)', 'TCP DL Retrans. Vol (Bytes)',\n",
       "       'TCP UL Retrans. Vol (Bytes)', 'DL TP < 50 Kbps (%)',\n",
       "       '50 Kbps < DL TP < 250 Kbps (%)', '250 Kbps < DL TP < 1 Mbps (%)',\n",
       "       'DL TP > 1 Mbps (%)', 'UL TP < 10 Kbps (%)',\n",
       "       '10 Kbps < UL TP < 50 Kbps (%)', '50 Kbps < UL TP < 300 Kbps (%)',\n",
       "       'UL TP > 300 Kbps (%)', 'HTTP DL (Bytes)', 'HTTP UL (Bytes)',\n",
       "       'Activity Duration DL (ms)', 'Activity Duration UL (ms)', 'Dur. (ms).1',\n",
       "       'Nb of sec with 125000B < Vol DL',\n",
       "       'Nb of sec with 1250B < Vol UL < 6250B',\n",
       "       'Nb of sec with 31250B < Vol DL < 125000B',\n",
       "       'Nb of sec with 37500B < Vol UL',\n",
       "       'Nb of sec with 6250B < Vol DL < 31250B',\n",
       "       'Nb of sec with 6250B < Vol UL < 37500B',\n",
       "       'Nb of sec with Vol DL < 6250B', 'Nb of sec with Vol UL < 1250B',\n",
       "       'Social Media DL (Bytes)', 'Social Media UL (Bytes)',\n",
       "       'Google DL (Bytes)', 'Google UL (Bytes)', 'Email DL (Bytes)',\n",
       "       'Email UL (Bytes)', 'Youtube DL (Bytes)', 'Youtube UL (Bytes)',\n",
       "       'Netflix DL (Bytes)', 'Netflix UL (Bytes)', 'Gaming DL (Bytes)',\n",
       "       'Gaming UL (Bytes)', 'Other DL (Bytes)', 'Other UL (Bytes)',\n",
       "       'Total UL (Bytes)', 'Total DL (Bytes)', 'Last Location Name_encoded',\n",
       "       'Handset Manufacturer_encoded', 'Handset Type_encoded'],\n",
       "      dtype='object')"
      ]
     },
     "execution_count": 12,
     "metadata": {},
     "output_type": "execute_result"
    }
   ],
   "source": [
    "df_knn.columns"
   ]
  },
  {
   "cell_type": "code",
   "execution_count": 13,
   "id": "3d27235d",
   "metadata": {},
   "outputs": [
    {
     "data": {
      "image/png": "[encoded data removed]",
      "text/plain": [
       "<Figure size 1008x504 with 1 Axes>"
      ]
     },
     "metadata": {
      "needs_background": "light"
     },
     "output_type": "display_data"
    }
   ],
   "source": [
    "plot_hist(df_knn,'Dur. (ms)','blue')"
   ]
  },
  {
   "cell_type": "code",
   "execution_count": 17,
   "id": "8371fe6d",
   "metadata": {},
   "outputs": [
    {
     "name": "stderr",
     "output_type": "stream",
     "text": [
      "/home/owon/anaconda3/lib/python3.8/site-packages/seaborn/distributions.py:2619: FutureWarning: `distplot` is a deprecated function and will be removed in a future version. Please adapt your code to use either `displot` (a figure-level function with similar flexibility) or `histplot` (an axes-level function for histograms).\n",
      "  warnings.warn(msg, FutureWarning)\n"
     ]
    },
    {
     "data": {
      "text/plain": [
       "<AxesSubplot:xlabel='Bearer Id', ylabel='Density'>"
      ]
     },
     "execution_count": 17,
     "metadata": {},
     "output_type": "execute_result"
    },
    {
     "data": {
      "image/png": "[encoded data removed]",
      "text/plain": [
       "<Figure size 432x288 with 1 Axes>"
      ]
     },
     "metadata": {
      "needs_background": "light"
     },
     "output_type": "display_data"
    }
   ],
   "source": [
    "#distribution plot\n",
    "sns.distplot(df['Bearer Id'])"
   ]
  },
  {
   "cell_type": "code",
   "execution_count": 18,
   "id": "234d9521",
   "metadata": {},
   "outputs": [
    {
     "ename": "NameError",
     "evalue": "name 'missing_non_categorical_columns' is not defined",
     "output_type": "error",
     "traceback": [
      "\u001b[0;31m---------------------------------------------------------------------------\u001b[0m",
      "\u001b[0;31mNameError\u001b[0m                                 Traceback (most recent call last)",
      "Input \u001b[0;32mIn [18]\u001b[0m, in \u001b[0;36m<cell line: 1>\u001b[0;34m()\u001b[0m\n\u001b[0;32m----> 1\u001b[0m msno\u001b[38;5;241m.\u001b[39mheatmap(df[\u001b[43mmissing_non_categorical_columns\u001b[49m], labels \u001b[38;5;241m=\u001b[39m \u001b[38;5;28;01mTrue\u001b[39;00m)\n",
      "\u001b[0;31mNameError\u001b[0m: name 'missing_non_categorical_columns' is not defined"
     ]
    }
   ],
   "source": [
    "msno.heatmap(df[missing_non_categorical_columns], labels = True)"
   ]
  },
  {
   "cell_type": "code",
   "execution_count": null,
   "id": "c38b102a",
   "metadata": {},
   "outputs": [],
   "source": [
    "dfExp[\"fixed_num_medications\"].describe()\n"
   ]
  },
  {
   "cell_type": "markdown",
   "id": "e76dca9e",
   "metadata": {},
   "source": [
    "## Categorical Variables"
   ]
  },
  {
   "cell_type": "code",
   "execution_count": 35,
   "id": "fe4ae853",
   "metadata": {},
   "outputs": [
    {
     "data": {
      "image/png": "[encoded data removed]",
      "text/plain": [
       "<Figure size 864x504 with 1 Axes>"
      ]
     },
     "metadata": {
      "needs_background": "light"
     },
     "output_type": "display_data"
    }
   ],
   "source": [
    "\n",
    "plot_count(df, \"Handset Type\")\n"
   ]
  },
  {
   "cell_type": "code",
   "execution_count": null,
   "id": "ef049371",
   "metadata": {},
   "outputs": [],
   "source": []
  },
  {
   "cell_type": "code",
   "execution_count": null,
   "id": "3a61a560",
   "metadata": {},
   "outputs": [],
   "source": []
  },
  {
   "cell_type": "markdown",
   "id": "49794e84",
   "metadata": {},
   "source": [
    "# Multivariate Analysis\n"
   ]
  },
  {
   "cell_type": "code",
   "execution_count": null,
   "id": "83e9d0df",
   "metadata": {},
   "outputs": [],
   "source": [
    "plot_scatter(df.head(100), x_col=\"\", y_col=\"\", hue=\"race\",\n",
    "             style=\"race\", title=\"number of medications vs number of lab procedures\")"
   ]
  },
  {
   "cell_type": "code",
   "execution_count": null,
   "id": "0e85b978",
   "metadata": {},
   "outputs": [],
   "source": [
    "plot_box_multi(dfExp, x_col=\"race\", y_col=\"num_medications\", title=\"number of medications outilers in race column\")\n"
   ]
  },
  {
   "cell_type": "code",
   "execution_count": null,
   "id": "23838f21",
   "metadata": {},
   "outputs": [],
   "source": [
    "dfPair = dfExp[[\"race\", \"time_in_hospital\", \"num_procedures\", \"num_lab_procedures\", \"num_medications\"]]\n"
   ]
  },
  {
   "cell_type": "code",
   "execution_count": null,
   "id": "707bccdc",
   "metadata": {},
   "outputs": [],
   "source": [
    "sns.pairplot(dfPair, hue = 'race', diag_kind = 'kde',\n",
    "             plot_kws = {'alpha': 0.6, 's': 80, 'edgecolor': 'k'},\n",
    "             height=4)"
   ]
  },
  {
   "cell_type": "code",
   "execution_count": null,
   "id": "b62f5ea0",
   "metadata": {},
   "outputs": [],
   "source": [
    "sns.pairplot(dfPair, hue = 'race', diag_kind = 'kde',\n",
    "             height=4)"
   ]
  }
 ],
 "metadata": {
  "kernelspec": {
   "display_name": "Python [conda env:root] *",
   "language": "python",
   "name": "conda-root-py"
  },
  "language_info": {
   "codemirror_mode": {
    "name": "ipython",
    "version": 3
   },
   "file_extension": ".py",
   "mimetype": "text/x-python",
   "name": "python",
   "nbconvert_exporter": "python",
   "pygments_lexer": "ipython3",
   "version": "3.8.5"
  }
 },
 "nbformat": 4,
 "nbformat_minor": 5
}
